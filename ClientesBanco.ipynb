{
 "cells": [
  {
   "attachments": {},
   "cell_type": "markdown",
   "metadata": {},
   "source": [
    "# Laboratorio 7 (Segmentación de Clientes de Banco) - Inteligencia Artificial\n",
    "Autores: Stefano Aragoni, Carol Arévalo, Luis Santos\n",
    "\n",
    "_________"
   ]
  },
  {
   "attachments": {},
   "cell_type": "markdown",
   "metadata": {},
   "source": [
    "En este caso, se tiene un dataset en el cual se desea analizar la segmentación de clientes de un banco. Es dataset provisto contiene información de diferentes trasacciones realizadas por clientes. Del cliente, tenemos información como su fecha de nacimiento, género, ubicación, dinero actual en su cuenta, así como la cantidad de dinero involucrada en la respectiva transacción.\n",
    "\n",
    "A continuación se presenta cómo se utilizó K-Means para poder hacer la agrupación de clientes según diferentes características provistas por el dataset.\n",
    "\n",
    "_____________"
   ]
  },
  {
   "attachments": {},
   "cell_type": "markdown",
   "metadata": {},
   "source": [
    "### Task 1.0: Exploración y Limpieza de Datos\n",
    "Como primer paso, se importa el archivo a través de distintas librerías. "
   ]
  },
  {
   "cell_type": "code",
   "execution_count": 2,
   "metadata": {},
   "outputs": [
    {
     "data": {
      "text/html": [
       "<div>\n",
       "<style scoped>\n",
       "    .dataframe tbody tr th:only-of-type {\n",
       "        vertical-align: middle;\n",
       "    }\n",
       "\n",
       "    .dataframe tbody tr th {\n",
       "        vertical-align: top;\n",
       "    }\n",
       "\n",
       "    .dataframe thead th {\n",
       "        text-align: right;\n",
       "    }\n",
       "</style>\n",
       "<table border=\"1\" class=\"dataframe\">\n",
       "  <thead>\n",
       "    <tr style=\"text-align: right;\">\n",
       "      <th></th>\n",
       "      <th>TransactionID</th>\n",
       "      <th>CustomerID</th>\n",
       "      <th>CustomerDOB</th>\n",
       "      <th>CustGender</th>\n",
       "      <th>CustLocation</th>\n",
       "      <th>CustAccountBalance</th>\n",
       "      <th>TransactionDate</th>\n",
       "      <th>TransactionTime</th>\n",
       "      <th>TransactionAmount (INR)</th>\n",
       "    </tr>\n",
       "  </thead>\n",
       "  <tbody>\n",
       "    <tr>\n",
       "      <th>0</th>\n",
       "      <td>T1</td>\n",
       "      <td>C5841053</td>\n",
       "      <td>10/1/94</td>\n",
       "      <td>F</td>\n",
       "      <td>JAMSHEDPUR</td>\n",
       "      <td>17819.05</td>\n",
       "      <td>2/8/16</td>\n",
       "      <td>143207</td>\n",
       "      <td>25.0</td>\n",
       "    </tr>\n",
       "    <tr>\n",
       "      <th>1</th>\n",
       "      <td>T2</td>\n",
       "      <td>C2142763</td>\n",
       "      <td>4/4/57</td>\n",
       "      <td>M</td>\n",
       "      <td>JHAJJAR</td>\n",
       "      <td>2270.69</td>\n",
       "      <td>2/8/16</td>\n",
       "      <td>141858</td>\n",
       "      <td>27999.0</td>\n",
       "    </tr>\n",
       "    <tr>\n",
       "      <th>2</th>\n",
       "      <td>T3</td>\n",
       "      <td>C4417068</td>\n",
       "      <td>26/11/96</td>\n",
       "      <td>F</td>\n",
       "      <td>MUMBAI</td>\n",
       "      <td>17874.44</td>\n",
       "      <td>2/8/16</td>\n",
       "      <td>142712</td>\n",
       "      <td>459.0</td>\n",
       "    </tr>\n",
       "    <tr>\n",
       "      <th>3</th>\n",
       "      <td>T4</td>\n",
       "      <td>C5342380</td>\n",
       "      <td>14/9/73</td>\n",
       "      <td>F</td>\n",
       "      <td>MUMBAI</td>\n",
       "      <td>866503.21</td>\n",
       "      <td>2/8/16</td>\n",
       "      <td>142714</td>\n",
       "      <td>2060.0</td>\n",
       "    </tr>\n",
       "    <tr>\n",
       "      <th>4</th>\n",
       "      <td>T5</td>\n",
       "      <td>C9031234</td>\n",
       "      <td>24/3/88</td>\n",
       "      <td>F</td>\n",
       "      <td>NAVI MUMBAI</td>\n",
       "      <td>6714.43</td>\n",
       "      <td>2/8/16</td>\n",
       "      <td>181156</td>\n",
       "      <td>1762.5</td>\n",
       "    </tr>\n",
       "  </tbody>\n",
       "</table>\n",
       "</div>"
      ],
      "text/plain": [
       "  TransactionID CustomerID CustomerDOB CustGender CustLocation  \\\n",
       "0            T1   C5841053     10/1/94          F   JAMSHEDPUR   \n",
       "1            T2   C2142763      4/4/57          M      JHAJJAR   \n",
       "2            T3   C4417068    26/11/96          F       MUMBAI   \n",
       "3            T4   C5342380     14/9/73          F       MUMBAI   \n",
       "4            T5   C9031234     24/3/88          F  NAVI MUMBAI   \n",
       "\n",
       "   CustAccountBalance TransactionDate  TransactionTime  \\\n",
       "0            17819.05          2/8/16           143207   \n",
       "1             2270.69          2/8/16           141858   \n",
       "2            17874.44          2/8/16           142712   \n",
       "3           866503.21          2/8/16           142714   \n",
       "4             6714.43          2/8/16           181156   \n",
       "\n",
       "   TransactionAmount (INR)  \n",
       "0                     25.0  \n",
       "1                  27999.0  \n",
       "2                    459.0  \n",
       "3                   2060.0  \n",
       "4                   1762.5  "
      ]
     },
     "execution_count": 2,
     "metadata": {},
     "output_type": "execute_result"
    }
   ],
   "source": [
    "# Importar librerías \n",
    "import numpy as np\n",
    "import matplotlib.pyplot as plt\n",
    "import pandas as pd\n",
    "import seaborn as sns\n",
    "from sklearn import datasets\n",
    "from sklearn.model_selection import train_test_split\n",
    "from sklearn.metrics import confusion_matrix\n",
    "from sklearn.metrics import accuracy_score\n",
    "from sklearn.metrics import classification_report\n",
    "\n",
    "# Cargar el dataset\n",
    "data = pd.read_csv('bank_transactions.csv')\n",
    "\n",
    "data.head()\n"
   ]
  },
  {
   "attachments": {},
   "cell_type": "markdown",
   "metadata": {},
   "source": [
    "##### Datos Faltantes\n",
    "En este caso, se encontró que CustomerDOB contaba con datos faltantes. Por tal razón, posteriormente se utilizó un método para poder rellenar dichos datos faltantes."
   ]
  },
  {
   "cell_type": "code",
   "execution_count": 3,
   "metadata": {},
   "outputs": [
    {
     "data": {
      "text/plain": [
       "Index(['CustomerDOB', 'CustGender', 'CustLocation', 'CustAccountBalance'], dtype='object')"
      ]
     },
     "execution_count": 3,
     "metadata": {},
     "output_type": "execute_result"
    },
    {
     "data": {
      "image/png": "[encoded data removed]",
      "text/plain": [
       "<Figure size 640x480 with 1 Axes>"
      ]
     },
     "metadata": {},
     "output_type": "display_data"
    }
   ],
   "source": [
    "# Matriz de datos faltantes\n",
    "sns.heatmap(data.isnull(), cbar=False)\n",
    "\n",
    "# Mostrar columnas con datos faltantes, o con datos fuera de lugar (como un string en columna numérica)\n",
    "data.columns[data.isnull().any()]"
   ]
  },
  {
   "attachments": {},
   "cell_type": "markdown",
   "metadata": {},
   "source": [
    "En caso hayan datos faltantes que no se pueden observar en la gráfica, a continuación se realizó un proceso que rellena datos faltantes con promedio de datos."
   ]
  },
  {
   "cell_type": "code",
   "execution_count": 4,
   "metadata": {},
   "outputs": [
    {
     "data": {
      "text/plain": [
       "Index([], dtype='object')"
      ]
     },
     "execution_count": 4,
     "metadata": {},
     "output_type": "execute_result"
    }
   ],
   "source": [
    "for col in data.columns[data.isnull().any()]:\n",
    "\n",
    "    if data[col].dtype == 'float64' or data[col].dtype == 'int64':\n",
    "        data[col].fillna(data[col].mean(), inplace=True)\n",
    "\n",
    "    else:\n",
    "        data[col].fillna(data[col].mode()[0], inplace=True)\n",
    "\n",
    "data.columns[data.isnull().any()]"
   ]
  },
  {
   "attachments": {},
   "cell_type": "markdown",
   "metadata": {},
   "source": [
    "##### Encoding\n",
    "Convertir variables que no son numéricas a numéricas. En este caso, principalmente se estaba conviertiendo fecha de nacimiento a edad. Se mapeó género a 0 o 1, correspondiente a M y F. Por otro lado, se eliminaron variables de ID, ya que no presentan información útil para la clasificación de clientes; solo son identificadores únicos."
   ]
  },
  {
   "cell_type": "code",
   "execution_count": 5,
   "metadata": {},
   "outputs": [
    {
     "data": {
      "text/html": [
       "<div>\n",
       "<style scoped>\n",
       "    .dataframe tbody tr th:only-of-type {\n",
       "        vertical-align: middle;\n",
       "    }\n",
       "\n",
       "    .dataframe tbody tr th {\n",
       "        vertical-align: top;\n",
       "    }\n",
       "\n",
       "    .dataframe thead th {\n",
       "        text-align: right;\n",
       "    }\n",
       "</style>\n",
       "<table border=\"1\" class=\"dataframe\">\n",
       "  <thead>\n",
       "    <tr style=\"text-align: right;\">\n",
       "      <th></th>\n",
       "      <th>CustGender</th>\n",
       "      <th>CustLocation</th>\n",
       "      <th>CustAccountBalance</th>\n",
       "      <th>TransactionAmount (INR)</th>\n",
       "      <th>Age</th>\n",
       "    </tr>\n",
       "  </thead>\n",
       "  <tbody>\n",
       "    <tr>\n",
       "      <th>0</th>\n",
       "      <td>1.0</td>\n",
       "      <td>JAMSHEDPUR</td>\n",
       "      <td>17819.05</td>\n",
       "      <td>25.0</td>\n",
       "      <td>29</td>\n",
       "    </tr>\n",
       "    <tr>\n",
       "      <th>1</th>\n",
       "      <td>0.0</td>\n",
       "      <td>JHAJJAR</td>\n",
       "      <td>2270.69</td>\n",
       "      <td>27999.0</td>\n",
       "      <td>66</td>\n",
       "    </tr>\n",
       "    <tr>\n",
       "      <th>2</th>\n",
       "      <td>1.0</td>\n",
       "      <td>MUMBAI</td>\n",
       "      <td>17874.44</td>\n",
       "      <td>459.0</td>\n",
       "      <td>27</td>\n",
       "    </tr>\n",
       "    <tr>\n",
       "      <th>3</th>\n",
       "      <td>1.0</td>\n",
       "      <td>MUMBAI</td>\n",
       "      <td>866503.21</td>\n",
       "      <td>2060.0</td>\n",
       "      <td>50</td>\n",
       "    </tr>\n",
       "    <tr>\n",
       "      <th>4</th>\n",
       "      <td>1.0</td>\n",
       "      <td>NAVI MUMBAI</td>\n",
       "      <td>6714.43</td>\n",
       "      <td>1762.5</td>\n",
       "      <td>35</td>\n",
       "    </tr>\n",
       "  </tbody>\n",
       "</table>\n",
       "</div>"
      ],
      "text/plain": [
       "   CustGender CustLocation  CustAccountBalance  TransactionAmount (INR)  Age\n",
       "0         1.0   JAMSHEDPUR            17819.05                     25.0   29\n",
       "1         0.0      JHAJJAR             2270.69                  27999.0   66\n",
       "2         1.0       MUMBAI            17874.44                    459.0   27\n",
       "3         1.0       MUMBAI           866503.21                   2060.0   50\n",
       "4         1.0  NAVI MUMBAI             6714.43                   1762.5   35"
      ]
     },
     "execution_count": 5,
     "metadata": {},
     "output_type": "execute_result"
    }
   ],
   "source": [
    "import datetime\n",
    "from datetime import timedelta, date\n",
    "from sklearn.preprocessing import LabelEncoder\n",
    "\n",
    "#-------------------EDAD-------------------------\n",
    "# Convertir CustomerDOB a año de nacimiento\n",
    "data['YOB'] = '19' + data['CustomerDOB'].str[-2:]\n",
    "data['YOB'] = data['YOB'].astype(int)\n",
    "\n",
    "# Eliminar columna de DOB\n",
    "data = data.drop(['CustomerDOB'], axis=1)\n",
    "\n",
    "# Determinar edad\n",
    "data['Age'] = 2023 - data['YOB']\n",
    "\n",
    "# Eliminar columna de YOB\n",
    "data = data.drop(['YOB'], axis=1)\n",
    "\n",
    "#-------------------GENERO-------------------------\n",
    "# Convertir genero a int. M = 0, F = 1\n",
    "data['CustGender'] = data['CustGender'].map({'M': 0, 'F': 1})\n",
    "\n",
    "#------------ELIMINAR TRANSACTIONS----------------\n",
    "data = data.drop(['TransactionID'], axis=1)\n",
    "\n",
    "#-----------------ELIMINAR CID--------------------\n",
    "data = data.drop(['CustomerID'], axis=1)\n",
    "\n",
    "#----------ELIMINAR VARIABLES QUE NO DAN INFO DE CLIENTE --------------\n",
    "data = data.drop(['TransactionDate'], axis=1)\n",
    "data = data.drop(['TransactionTime'], axis=1)\n",
    "\n",
    "data.head()"
   ]
  },
  {
   "cell_type": "code",
   "execution_count": 6,
   "metadata": {},
   "outputs": [
    {
     "data": {
      "text/html": [
       "<div>\n",
       "<style scoped>\n",
       "    .dataframe tbody tr th:only-of-type {\n",
       "        vertical-align: middle;\n",
       "    }\n",
       "\n",
       "    .dataframe tbody tr th {\n",
       "        vertical-align: top;\n",
       "    }\n",
       "\n",
       "    .dataframe thead th {\n",
       "        text-align: right;\n",
       "    }\n",
       "</style>\n",
       "<table border=\"1\" class=\"dataframe\">\n",
       "  <thead>\n",
       "    <tr style=\"text-align: right;\">\n",
       "      <th></th>\n",
       "      <th>CustGender</th>\n",
       "      <th>CustLocation</th>\n",
       "      <th>CustAccountBalance</th>\n",
       "      <th>TransactionAmount (INR)</th>\n",
       "      <th>Age</th>\n",
       "    </tr>\n",
       "  </thead>\n",
       "  <tbody>\n",
       "    <tr>\n",
       "      <th>0</th>\n",
       "      <td>1.0</td>\n",
       "      <td>3586</td>\n",
       "      <td>17819.05</td>\n",
       "      <td>25.0</td>\n",
       "      <td>29</td>\n",
       "    </tr>\n",
       "    <tr>\n",
       "      <th>1</th>\n",
       "      <td>0.0</td>\n",
       "      <td>3648</td>\n",
       "      <td>2270.69</td>\n",
       "      <td>27999.0</td>\n",
       "      <td>66</td>\n",
       "    </tr>\n",
       "    <tr>\n",
       "      <th>2</th>\n",
       "      <td>1.0</td>\n",
       "      <td>5268</td>\n",
       "      <td>17874.44</td>\n",
       "      <td>459.0</td>\n",
       "      <td>27</td>\n",
       "    </tr>\n",
       "    <tr>\n",
       "      <th>3</th>\n",
       "      <td>1.0</td>\n",
       "      <td>5268</td>\n",
       "      <td>866503.21</td>\n",
       "      <td>2060.0</td>\n",
       "      <td>50</td>\n",
       "    </tr>\n",
       "    <tr>\n",
       "      <th>4</th>\n",
       "      <td>1.0</td>\n",
       "      <td>5657</td>\n",
       "      <td>6714.43</td>\n",
       "      <td>1762.5</td>\n",
       "      <td>35</td>\n",
       "    </tr>\n",
       "  </tbody>\n",
       "</table>\n",
       "</div>"
      ],
      "text/plain": [
       "   CustGender  CustLocation  CustAccountBalance  TransactionAmount (INR)  Age\n",
       "0         1.0          3586            17819.05                     25.0   29\n",
       "1         0.0          3648             2270.69                  27999.0   66\n",
       "2         1.0          5268            17874.44                    459.0   27\n",
       "3         1.0          5268           866503.21                   2060.0   50\n",
       "4         1.0          5657             6714.43                   1762.5   35"
      ]
     },
     "execution_count": 6,
     "metadata": {},
     "output_type": "execute_result"
    }
   ],
   "source": [
    "# Convierte la ubicacion a un numero\n",
    "le = LabelEncoder()\n",
    "data[\"CustLocation\"] = le.fit_transform(data[\"CustLocation\"])\n",
    "\n",
    "data.head()"
   ]
  },
  {
   "attachments": {},
   "cell_type": "markdown",
   "metadata": {},
   "source": [
    "##### Balanceo\n",
    "Se determino que es importantes que la siguiente variable esté balanceada:\n",
    "\n",
    "-CustGender: para verificar que exista una cantidad equilibrada de datos para ambos géneros\n"
   ]
  },
  {
   "cell_type": "code",
   "execution_count": 7,
   "metadata": {},
   "outputs": [],
   "source": [
    "data2 = data.copy()"
   ]
  },
  {
   "cell_type": "code",
   "execution_count": 8,
   "metadata": {},
   "outputs": [
    {
     "name": "stdout",
     "output_type": "stream",
     "text": [
      "Número de F: 281936\n",
      "Número de M: 766630\n",
      "Número de F balanceado: 766630\n",
      "Número de M balanceado: 766630\n"
     ]
    }
   ],
   "source": [
    "from imblearn.over_sampling import SMOTE\n",
    "\n",
    "#Calcular cuantas columans son F y cuantas M en CustGender\n",
    "print('Número de F:',data2[data2['CustGender'] == 1].shape[0])\n",
    "print('Número de M:',data2[data2['CustGender'] == 0].shape[0])\n",
    "data2 = data2.dropna(subset=['CustGender'])\n",
    "\n",
    "# Separar las características y la variable objetivo\n",
    "X_temp = data2.drop('CustGender', axis=1)\n",
    "y_temp = data2['CustGender']\n",
    "\n",
    "#Aplicar SMOTE\n",
    "smote = SMOTE()\n",
    "X_resampled, y_resampled = smote.fit_resample(X_temp, y_temp)\n",
    "\n",
    "data2 = pd.concat([X_resampled, y_resampled], axis=1)\n",
    "\n",
    "# Contar los valores de cada clase\n",
    "print('Número de F balanceado:',data2[data2['CustGender'] == 1].shape[0])\n",
    "print('Número de M balanceado:',data2[data2['CustGender'] == 0].shape[0])\n",
    "\n"
   ]
  },
  {
   "attachments": {},
   "cell_type": "markdown",
   "metadata": {},
   "source": [
    "##### Escalar\n",
    "En este caso, se utilizó la librería de SKLearn para poder escalar y normalizar los datos que lo necesitaran. Asimismo, también se hizo un análisis pre y post escalamiento para determinar la distribución de los datos. En el preprocesamiento, se podía observar cómo ciertas variables tenían una alta desviación estándar a comparación de su respectiva media. Esto fue solucionado a través de la función de MinMaxScaler(). \n",
    "\n",
    "> Asimismo, es importante mencionar que la normalización de datos es importante para, según Microsoft, \"tener datos que usan una escala común, sin distorsionar las diferencias en los intervalos de valores ni perder información\". https://learn.microsoft.com/es-es/azure/machine-learning/component-reference/normalize-data"
   ]
  },
  {
   "cell_type": "code",
   "execution_count": 9,
   "metadata": {},
   "outputs": [
    {
     "name": "stdout",
     "output_type": "stream",
     "text": [
      "\n",
      "\n",
      "Media y desviación estándar de cada columna:\n"
     ]
    },
    {
     "data": {
      "text/html": [
       "<div>\n",
       "<style scoped>\n",
       "    .dataframe tbody tr th:only-of-type {\n",
       "        vertical-align: middle;\n",
       "    }\n",
       "\n",
       "    .dataframe tbody tr th {\n",
       "        vertical-align: top;\n",
       "    }\n",
       "\n",
       "    .dataframe thead th {\n",
       "        text-align: right;\n",
       "    }\n",
       "</style>\n",
       "<table border=\"1\" class=\"dataframe\">\n",
       "  <thead>\n",
       "    <tr style=\"text-align: right;\">\n",
       "      <th></th>\n",
       "      <th>CustLocation</th>\n",
       "      <th>CustAccountBalance</th>\n",
       "      <th>TransactionAmount (INR)</th>\n",
       "      <th>Age</th>\n",
       "      <th>CustGender</th>\n",
       "    </tr>\n",
       "  </thead>\n",
       "  <tbody>\n",
       "    <tr>\n",
       "      <th>count</th>\n",
       "      <td>1.533260e+06</td>\n",
       "      <td>1.533260e+06</td>\n",
       "      <td>1.533260e+06</td>\n",
       "      <td>1.533260e+06</td>\n",
       "      <td>1533260.0</td>\n",
       "    </tr>\n",
       "    <tr>\n",
       "      <th>mean</th>\n",
       "      <td>4.096268e+03</td>\n",
       "      <td>1.132285e+05</td>\n",
       "      <td>1.597252e+03</td>\n",
       "      <td>4.200949e+01</td>\n",
       "      <td>0.5</td>\n",
       "    </tr>\n",
       "    <tr>\n",
       "      <th>std</th>\n",
       "      <td>2.358010e+03</td>\n",
       "      <td>8.193359e+05</td>\n",
       "      <td>6.429190e+03</td>\n",
       "      <td>2.007626e+01</td>\n",
       "      <td>0.5</td>\n",
       "    </tr>\n",
       "    <tr>\n",
       "      <th>min</th>\n",
       "      <td>0.000000e+00</td>\n",
       "      <td>0.000000e+00</td>\n",
       "      <td>0.000000e+00</td>\n",
       "      <td>2.400000e+01</td>\n",
       "      <td>0.0</td>\n",
       "    </tr>\n",
       "    <tr>\n",
       "      <th>25%</th>\n",
       "      <td>2.075000e+03</td>\n",
       "      <td>5.282990e+03</td>\n",
       "      <td>1.788459e+02</td>\n",
       "      <td>3.200000e+01</td>\n",
       "      <td>0.0</td>\n",
       "    </tr>\n",
       "    <tr>\n",
       "      <th>50%</th>\n",
       "      <td>4.011000e+03</td>\n",
       "      <td>1.804545e+04</td>\n",
       "      <td>4.918960e+02</td>\n",
       "      <td>3.600000e+01</td>\n",
       "      <td>0.5</td>\n",
       "    </tr>\n",
       "    <tr>\n",
       "      <th>75%</th>\n",
       "      <td>5.792000e+03</td>\n",
       "      <td>6.103530e+04</td>\n",
       "      <td>1.268000e+03</td>\n",
       "      <td>4.200000e+01</td>\n",
       "      <td>1.0</td>\n",
       "    </tr>\n",
       "    <tr>\n",
       "      <th>max</th>\n",
       "      <td>9.354000e+03</td>\n",
       "      <td>1.150355e+08</td>\n",
       "      <td>1.560035e+06</td>\n",
       "      <td>1.230000e+02</td>\n",
       "      <td>1.0</td>\n",
       "    </tr>\n",
       "  </tbody>\n",
       "</table>\n",
       "</div>"
      ],
      "text/plain": [
       "       CustLocation  CustAccountBalance  TransactionAmount (INR)  \\\n",
       "count  1.533260e+06        1.533260e+06             1.533260e+06   \n",
       "mean   4.096268e+03        1.132285e+05             1.597252e+03   \n",
       "std    2.358010e+03        8.193359e+05             6.429190e+03   \n",
       "min    0.000000e+00        0.000000e+00             0.000000e+00   \n",
       "25%    2.075000e+03        5.282990e+03             1.788459e+02   \n",
       "50%    4.011000e+03        1.804545e+04             4.918960e+02   \n",
       "75%    5.792000e+03        6.103530e+04             1.268000e+03   \n",
       "max    9.354000e+03        1.150355e+08             1.560035e+06   \n",
       "\n",
       "                Age  CustGender  \n",
       "count  1.533260e+06   1533260.0  \n",
       "mean   4.200949e+01         0.5  \n",
       "std    2.007626e+01         0.5  \n",
       "min    2.400000e+01         0.0  \n",
       "25%    3.200000e+01         0.0  \n",
       "50%    3.600000e+01         0.5  \n",
       "75%    4.200000e+01         1.0  \n",
       "max    1.230000e+02         1.0  "
      ]
     },
     "execution_count": 9,
     "metadata": {},
     "output_type": "execute_result"
    }
   ],
   "source": [
    "# Calcular media y desviación estándar de cada columna\n",
    "print('\\n\\nMedia y desviación estándar de cada columna:')\n",
    "data2.describe()"
   ]
  },
  {
   "cell_type": "code",
   "execution_count": 10,
   "metadata": {},
   "outputs": [
    {
     "data": {
      "text/html": [
       "<div>\n",
       "<style scoped>\n",
       "    .dataframe tbody tr th:only-of-type {\n",
       "        vertical-align: middle;\n",
       "    }\n",
       "\n",
       "    .dataframe tbody tr th {\n",
       "        vertical-align: top;\n",
       "    }\n",
       "\n",
       "    .dataframe thead th {\n",
       "        text-align: right;\n",
       "    }\n",
       "</style>\n",
       "<table border=\"1\" class=\"dataframe\">\n",
       "  <thead>\n",
       "    <tr style=\"text-align: right;\">\n",
       "      <th></th>\n",
       "      <th>CustLocation</th>\n",
       "      <th>CustAccountBalance</th>\n",
       "      <th>TransactionAmount (INR)</th>\n",
       "      <th>Age</th>\n",
       "      <th>CustGender</th>\n",
       "    </tr>\n",
       "  </thead>\n",
       "  <tbody>\n",
       "    <tr>\n",
       "      <th>0</th>\n",
       "      <td>0.383365</td>\n",
       "      <td>0.000155</td>\n",
       "      <td>0.000016</td>\n",
       "      <td>0.050505</td>\n",
       "      <td>1.0</td>\n",
       "    </tr>\n",
       "    <tr>\n",
       "      <th>1</th>\n",
       "      <td>0.389994</td>\n",
       "      <td>0.000020</td>\n",
       "      <td>0.017948</td>\n",
       "      <td>0.424242</td>\n",
       "      <td>0.0</td>\n",
       "    </tr>\n",
       "    <tr>\n",
       "      <th>2</th>\n",
       "      <td>0.563182</td>\n",
       "      <td>0.000155</td>\n",
       "      <td>0.000294</td>\n",
       "      <td>0.030303</td>\n",
       "      <td>1.0</td>\n",
       "    </tr>\n",
       "    <tr>\n",
       "      <th>3</th>\n",
       "      <td>0.563182</td>\n",
       "      <td>0.007532</td>\n",
       "      <td>0.001320</td>\n",
       "      <td>0.262626</td>\n",
       "      <td>1.0</td>\n",
       "    </tr>\n",
       "    <tr>\n",
       "      <th>4</th>\n",
       "      <td>0.604768</td>\n",
       "      <td>0.000058</td>\n",
       "      <td>0.001130</td>\n",
       "      <td>0.111111</td>\n",
       "      <td>1.0</td>\n",
       "    </tr>\n",
       "  </tbody>\n",
       "</table>\n",
       "</div>"
      ],
      "text/plain": [
       "   CustLocation  CustAccountBalance  TransactionAmount (INR)       Age  \\\n",
       "0      0.383365            0.000155                 0.000016  0.050505   \n",
       "1      0.389994            0.000020                 0.017948  0.424242   \n",
       "2      0.563182            0.000155                 0.000294  0.030303   \n",
       "3      0.563182            0.007532                 0.001320  0.262626   \n",
       "4      0.604768            0.000058                 0.001130  0.111111   \n",
       "\n",
       "   CustGender  \n",
       "0         1.0  \n",
       "1         0.0  \n",
       "2         1.0  \n",
       "3         1.0  \n",
       "4         1.0  "
      ]
     },
     "execution_count": 10,
     "metadata": {},
     "output_type": "execute_result"
    }
   ],
   "source": [
    "from sklearn.preprocessing import MinMaxScaler\n",
    "\n",
    "scaler = MinMaxScaler()\n",
    "scaled_features = scaler.fit_transform(data2)\n",
    "df_feat = pd.DataFrame(scaled_features, columns=data2.columns)\n",
    "df_feat.head()"
   ]
  },
  {
   "attachments": {},
   "cell_type": "markdown",
   "metadata": {},
   "source": [
    "##### Selección de Variables\n",
    "\n",
    "Finalmente, se quiso determinar los 2 features que se estarían utilizando para la realización del modelo de agrupación. En este caso, se quería dividir los clientes de un banco en grupos, para así entender la distribución de los mismos. En este caso, sí o sí se quería utilizar como variable CustAccountBalance; ya que es de interés del banco saber qué grupos de personas tienen la mayor cantidad de dinero en el mismo. \n",
    "\n",
    "Por otro lado, otra variable de interés era la edad, para así poder entender cómo el dinero del banco está distribuido entre las personas. \n",
    "\n",
    "Cabe destacar que se hizo un análisis de correlación, sin embargo, se pudo determinar que no existe mucha correlación entre las mismas. El top de variables con más correlación a CustAccountBalance son:\n",
    "\n",
    "1. Age                \n",
    "2. TransactionAmount (INR)                    \n",
    "\n",
    "En este caso se utilizará CustAccountBalance, Age y TransactionAmount (INR).\n",
    "\n",
    "\n",
    "> Sin embargo, para las gráficas únicamente se estará escogiendo CustAccountBalance y Age ya que son las variables que nos permitirán hacer la mejor subidivisión de los grupos basado en cómo está distribuído el dinero por edades. "
   ]
  },
  {
   "cell_type": "code",
   "execution_count": 11,
   "metadata": {},
   "outputs": [
    {
     "name": "stdout",
     "output_type": "stream",
     "text": [
      "CustAccountBalance         1.000000\n",
      "Age                        0.095268\n",
      "TransactionAmount (INR)    0.056111\n",
      "CustGender                 0.005164\n",
      "CustLocation               0.002514\n",
      "Name: CustAccountBalance, dtype: float64\n"
     ]
    }
   ],
   "source": [
    "# Correlación entre las columnas y el status, valores absolutos\n",
    "corr = df_feat.corr()['CustAccountBalance'].abs().sort_values(ascending=False)\n",
    "print(corr)\n",
    "\n",
    "X = df_feat[['Age', 'CustAccountBalance', 'TransactionAmount (INR)']].values"
   ]
  },
  {
   "attachments": {},
   "cell_type": "markdown",
   "metadata": {},
   "source": [
    "----------\n",
    "#### K - Means\n",
    "\n",
    "> 1. Si considera necesario haga split del dataset como en los laboratorios anteriores. Recuerde que es un problema de aprendizaje no supervisado\n",
    "\n",
    "En este caso, no se hizo split del dataset ya que no se tiene un problema de aprendizaje supervisado. Es decir, que no se está comprobando que el modelo realizado sepa clasificar datos. Simplemente se quiere crear agrupaciones de los clientes del banco.\n",
    "\n",
    "\n",
    "\n",
    "> 2. Seleccione el número de clusters que mejor se adapte al dataset. Justifique su elección\n",
    "\n",
    "Se utilizó la Gráfica de \"Elbow\" en ambos casos (K-Means manual y de SKLearn) para determinar el punto donde se estabiliza el WSS (o Within-Cluster Sum of Squares). Este punto donde se estabiliza dicho valor es conocido como el \"codo\" de una gráfica. A través de este procedimiento, en ambos casos, se determinó que la mejor cantidad de número de clusters era 3. Como resultado, se envió este parámetro con los modelos.\n",
    "\n",
    "\n",
    "\n",
    "> 3. Investigue sobre Principal Component Analysis (PCA) y responda: ¿Cómo podría ayudarle a mejorar la calidad de sus clusters?\n",
    "\n",
    "Principal Component Analysis es una técnica que permite analizar datasets muy grandes y reducir su dimensionalidad. Esto se logra transformando la información a un sistema lineal de cordenadas que describe la mayor cantidad posible de la información original. Esto puede ayudar a mejorar la cantidad de nuestros clusters disminuyendo la cantidad de filas que se encuentran en el dataset, sin perder información importante para este.\n",
    "\n",
    "\n",
    "\n",
    "> 4. Muestre al menos una gráfica que muestre cómo se dividen los clusters seleccionados. *Seleccione dos features, justifique su elección*\n",
    "\n",
    "En este caso se crearon 2 gráficas, una para K-Means manual y otra para SKLearn. En ambos casos, se puede observar que se dividen los datos y cómo se crearon los respectivos clusters. \n",
    "\n",
    "Para crear dichas gráficas... primero se determinó qué variables tenían mayor correlación con Customer Account Balance; ya que en realidad esa es la variable de más interés para un banco (¿quién tiene más dinero?). Como resultado, se determinó que Age y Transaction Amount eran las variables que más correlación tenían. Por lo cual se utilizaron estas dos en los respectivos modelos además de Customer Account Balance.\n",
    "\n",
    "Sin embargo, de estas tres variables únicamente se gráfico únicamente **Age** y **CustomerAccountBalance** ya que estas son las que proveen información que permite realizar agrupaciones relacionadas al cliente. Esto a diferencia de CustomerAccountBalance y TransactionAmount, que no nos dicen mucho sobre los tipos de clientes. \n",
    "\n",
    "En ambas graficas se muestra la relación entre **Customer Account Balance** y **Age**, esto con la intención de poder determinar cómo está distribuído el dinero en el banco y cuáles son los posibles tipos de cliente. En este caso se pudo observar 3 grupos principales; el primero es de los más jóvenes con menos dinero, el segundo es de adultos con más dinero, y por último tenemos a personas mayores con más dinero que los jóvenes pero menos dinero que los adultos. \n",
    "\n",
    "*Creemos que las gráficas son muy buenas indicadoras de cuándo personas empiezan y terminan de trabajar, debido a la cantidad de ingresos y dinero que tienen.*\n",
    "\n",
    "\n",
    "> 5. Provea una métrica de desempeño, justificando su elección\n",
    "\n",
    "Se decidió utilizar el índice de Davies–Bouldin, ya que este permite calificar que tan bien se dividieron los clusters de los algoritmos. Esto nos permitió validar el correcto funcionamiento de los clusters de ambos módelos creados.\n",
    "\n",
    "--------------"
   ]
  },
  {
   "attachments": {},
   "cell_type": "markdown",
   "metadata": {},
   "source": [
    "### Task 1.1: Implementacion de K-Means\n",
    "En esta primera sección, se creó manualmente las funciones correspondientes para el funcionamiento del modelo de K-Means"
   ]
  },
  {
   "cell_type": "code",
   "execution_count": 12,
   "metadata": {},
   "outputs": [],
   "source": [
    "#modelo K-means\n",
    "\n",
    "import numpy as np\n",
    "import matplotlib.pyplot as plt\n",
    "from mpl_toolkits.mplot3d import Axes3D\n",
    "from sklearn.metrics import silhouette_score\n",
    "import pandas as pd\n",
    "\n",
    "def initialize_centroids(X, K):\n",
    "    # Inicializar los centroides al azar a partir de los puntos de datos\n",
    "    centroids = X[np.random.choice(X.shape[0], K, replace=False), :]\n",
    "    return centroids\n",
    "\n",
    "def assign_clusters(X, centroids):\n",
    "    # Asignar cada punto de datos al clúster más cercano\n",
    "    distances = np.sqrt(np.sum((X - centroids[:, np.newaxis])**2, axis=2))\n",
    "    cluster_assignments = np.argmin(distances, axis=0)\n",
    "    return cluster_assignments\n",
    "\n",
    "def update_centroids(X, cluster_assignments, K):\n",
    "    # Calcular nuevos centroides a partir de los puntos de datos en cada clúster\n",
    "    centroids = np.zeros((K, X.shape[1]))\n",
    "    for i in range(K):\n",
    "        centroids[i,:] = np.mean(X[cluster_assignments == i, :], axis=0)\n",
    "    return centroids\n",
    "\n",
    "def kmeans(X, K, max_iters=100):\n",
    "    centroids = initialize_centroids(X, K)\n",
    "    for i in range(max_iters):\n",
    "        cluster_assignments = assign_clusters(X, centroids)\n",
    "        new_centroids = update_centroids(X, cluster_assignments, K)\n",
    "        if np.allclose(centroids, new_centroids):\n",
    "            break\n",
    "        centroids = new_centroids\n",
    "    return centroids, cluster_assignments"
   ]
  },
  {
   "attachments": {},
   "cell_type": "markdown",
   "metadata": {},
   "source": [
    "Posteriormente, se utilizó la función de calculate_WSS para determinar la métrica de WSS de diferentes modelos con distintos valores de clusters. Esto con el propósito de determinar cuántos clusters son los ideales para este modelo.\n",
    "\n",
    "\n",
    "Al hacer la gráfica \"elbow\" (codo) se puede determinar que con 3 clusters empieza a normalizarse el WSS y ya no decrece a una velocidad tan rápida. Por tal razón, el modelo final utilizará 3 clusters. "
   ]
  },
  {
   "cell_type": "code",
   "execution_count": 13,
   "metadata": {},
   "outputs": [
    {
     "name": "stdout",
     "output_type": "stream",
     "text": [
      "k: 1 cost: 63131.534788353274\n",
      "k: 2 cost: 11244.934689570931\n",
      "k: 3 cost: 4422.962769383637\n",
      "k: 4 cost: 2433.1507243951596\n",
      "k: 5 cost: 1583.528722397742\n",
      "k: 6 cost: 1277.670013587167\n",
      "k: 7 cost: 1055.3399086035015\n",
      "k: 8 cost: 918.0259437437816\n"
     ]
    },
    {
     "data": {
      "text/plain": [
       "[<matplotlib.lines.Line2D at 0x25901e83400>]"
      ]
     },
     "execution_count": 13,
     "metadata": {},
     "output_type": "execute_result"
    },
    {
     "data": {
      "image/png": "[encoded data removed]",
      "text/plain": [
       "<Figure size 640x480 with 1 Axes>"
      ]
     },
     "metadata": {},
     "output_type": "display_data"
    }
   ],
   "source": [
    "# Determinar la mejor cnatidad de clusters a través de Within-Cluster Sum of Squares (WSS) \n",
    "def calculate_WSS(points, kmax=10):\n",
    "  sse = []\n",
    "  for k in range(1, kmax+1):\n",
    "    centroids, cluster_assignments = kmeans(points, k)\n",
    "    curr_sse = 0\n",
    "    \n",
    "    # equivalente a inertia en sklearn\n",
    "    for i in range(len(points)):\n",
    "      curr_center = centroids[cluster_assignments[i]]\n",
    "      curr_sse += (points[i, 0] - curr_center[0]) ** 2 + (points[i, 1] - curr_center[1]) ** 2\n",
    "      \n",
    "    print(\"k:\",k, \"cost:\", curr_sse)\n",
    "    sse.append(curr_sse)\n",
    "\n",
    "  return sse\n",
    "\n",
    "sse = calculate_WSS(X, kmax=8)\n",
    "\n",
    "fig = plt.figure()\n",
    "ax = plt.axes()\n",
    "\n",
    "x_plot = list(range(1,9))\n",
    "ax.plot(x_plot, sse)"
   ]
  },
  {
   "attachments": {},
   "cell_type": "markdown",
   "metadata": {},
   "source": [
    "En base al valor de K determinado anteriormente, se creó una gráfica para poder demostrar las agrupaciones realizadas por el modelo."
   ]
  },
  {
   "cell_type": "code",
   "execution_count": 14,
   "metadata": {},
   "outputs": [
    {
     "data": {
      "image/png": "[encoded data removed]",
      "text/plain": [
       "<Figure size 640x480 with 1 Axes>"
      ]
     },
     "metadata": {},
     "output_type": "display_data"
    }
   ],
   "source": [
    "import matplotlib.pyplot as plt\n",
    "from mpl_toolkits.mplot3d import Axes3D\n",
    "\n",
    "# Calcular los centroides y los índices de asignación de clúster\n",
    "# X Contiene las variables con mayor correlación a CustAccountBalance. i.e. Age, CustAccountBalance, TransactionAmount (INR)...\n",
    "centroids, cluster_assignments = kmeans(X, K=3) \n",
    "\n",
    "fig = plt.figure()\n",
    "ax = fig.add_subplot(111)\n",
    "\n",
    "# Assign different colors to each cluster\n",
    "colors = ['r', 'g', 'b', 'c', 'm', 'y', 'k', 'b']\n",
    "cluster_colors = [colors[i] for i in cluster_assignments]\n",
    "\n",
    "# Plot the data points\n",
    "ax.scatter(df_feat['Age'], df_feat['CustAccountBalance'], c=cluster_colors)\n",
    "\n",
    "# Plot the centroids\n",
    "ax.scatter(centroids[:, 0], centroids[:, 1], c='black', marker='*', s=200)\n",
    "\n",
    "# Set the axis labels\n",
    "ax.set_xlabel('Age')\n",
    "ax.set_ylabel('CustAccountBalance')\n",
    "ax.set_title('K-Means Clustering')\n",
    "\n",
    "ax.set_xlim([min(df_feat['Age']), max(df_feat['Age'])])\n",
    "ax.set_ylim([min(df_feat['CustAccountBalance']), max(df_feat['CustAccountBalance'])])\n",
    "\n",
    "plt.show()"
   ]
  },
  {
   "attachments": {},
   "cell_type": "markdown",
   "metadata": {},
   "source": [
    "Para finalizar con el análisis del modelo creado manualmente, se quizo determinar la validez del modelo a través de Davies-Bouldin Index. A continuación, como se puede observar, se obtuvo un valor de aproximadamente 0.44. \n",
    "\n",
    "Esto es bueno, ya que mientras más bajo es este valor, mejor es la separación entre los clusters. Cabe destacar que el valor máximo promedio de este índice es entre 2 a 3 (pero podría llegar hasta el infinito positivo), por lo cual este valor cercano a 0 es casi que excelente. "
   ]
  },
  {
   "cell_type": "code",
   "execution_count": 15,
   "metadata": {},
   "outputs": [
    {
     "name": "stdout",
     "output_type": "stream",
     "text": [
      "0.43567786373552647\n"
     ]
    }
   ],
   "source": [
    "# Davies-Bouldin Index\n",
    "from sklearn.metrics import davies_bouldin_score\n",
    "print(davies_bouldin_score(X, cluster_assignments))"
   ]
  },
  {
   "attachments": {},
   "cell_type": "markdown",
   "metadata": {},
   "source": [
    "----------\n",
    "### Task 1.2: K-Means (SKLEARN - CON PCA)"
   ]
  },
  {
   "attachments": {},
   "cell_type": "markdown",
   "metadata": {},
   "source": [
    "Como segundo paso, se quiso comparar el resultado del modelo manual con el resultado de K-Means de SKLearn en conjunto con PCA. \n",
    "\n",
    "\n",
    "En este caso, también se estará haciendo uso de WSS para calcular cuál es el número de clusters ideal. A través de la gráfica de codo, se podrá determinar dicho valor.\n",
    "Como se pued observar a continuación, dicho valor sería 3 nuevamente. Esto ya que es este punto en la gráfica de codo cuando empieza a estabilizarse el valor de WSS.\n",
    "\n",
    "\n",
    "> Cabe destacar que, a pesar de que se usó PCA, no se observa mucha diferencia entre los modelos.\n",
    "\n",
    "> En este caso se cree que PCA no tuvo mucho impacto ya que únicamente se contaba con 3 features principales, de las cuales se graficaron 2. Por tal razón, PCA no tuvo que quitar muchas características irrelevantes o redundantes, ya que no había mucho ruido en el conjunto de features mandado al modelo. Como resultado, se obtuvo casi el mismo resultado (aunque el modelo de SKLearn presentó un mejor resultado)"
   ]
  },
  {
   "cell_type": "code",
   "execution_count": 16,
   "metadata": {},
   "outputs": [
    {
     "name": "stdout",
     "output_type": "stream",
     "text": [
      "k: 1 cost: 63131.88887572372\n",
      "k: 2 cost: 11245.173181685775\n",
      "k: 3 cost: 4423.087173481305\n",
      "k: 4 cost: 2379.740919008183\n",
      "k: 5 cost: 1519.9509786829594\n",
      "k: 6 cost: 1076.7385610102738\n",
      "k: 7 cost: 953.097947319393\n",
      "k: 8 cost: 729.8432908427185\n"
     ]
    },
    {
     "data": {
      "text/plain": [
       "[<matplotlib.lines.Line2D at 0x259006be200>]"
      ]
     },
     "execution_count": 16,
     "metadata": {},
     "output_type": "execute_result"
    },
    {
     "data": {
      "image/png": "[encoded data removed]",
      "text/plain": [
       "<Figure size 640x480 with 1 Axes>"
      ]
     },
     "metadata": {},
     "output_type": "display_data"
    }
   ],
   "source": [
    "from sklearn.cluster import KMeans\n",
    "from sklearn.decomposition import PCA\n",
    "\n",
    "\n",
    "# Determinar la mejor cnatidad de clusters a través de Within-Cluster Sum of Squares (WSS) \n",
    "def calculate_WSS(points, kmax=10):\n",
    "  sse = []\n",
    "\n",
    "  for k in range(1, kmax+1):\n",
    "    kmeans = KMeans(n_clusters = k, n_init='auto').fit(points)\n",
    "    centroids = kmeans.cluster_centers_\n",
    "    pred_clusters = kmeans.predict(points)\n",
    "    curr_sse = 0\n",
    "    \n",
    "    for i in range(len(points)):\n",
    "      curr_center = centroids[pred_clusters[i]]\n",
    "      curr_sse += (points[i, 0] - curr_center[0]) ** 2 + (points[i, 1] - curr_center[1]) ** 2\n",
    "      \n",
    "    sse.append(curr_sse)\n",
    "    print(\"k:\",k, \"cost:\", curr_sse)\n",
    "\n",
    "  return sse\n",
    "\n",
    "\n",
    "# PCA implementation\n",
    "pca = PCA(n_components=2)\n",
    "pca.fit(X)\n",
    "pca_data = pca.transform(X)\n",
    "\n",
    "# Grafica de codo\n",
    "sse = calculate_WSS(pca_data, kmax=8)\n",
    "\n",
    "fig = plt.figure()\n",
    "ax = plt.axes()\n",
    "\n",
    "x_plot = list(range(1,9))\n",
    "ax.plot(x_plot, sse)"
   ]
  },
  {
   "cell_type": "code",
   "execution_count": 17,
   "metadata": {},
   "outputs": [
    {
     "name": "stderr",
     "output_type": "stream",
     "text": [
      "c:\\Users\\carev\\AppData\\Local\\Programs\\Python\\Python310\\lib\\site-packages\\sklearn\\cluster\\_kmeans.py:870: FutureWarning: The default value of `n_init` will change from 10 to 'auto' in 1.4. Set the value of `n_init` explicitly to suppress the warning\n",
      "  warnings.warn(\n"
     ]
    }
   ],
   "source": [
    "# Calcular los centroides y los índices de asignación de clúster\n",
    "kmeans = KMeans(n_clusters=3, random_state=0).fit(pca_data)\n",
    "centroids = kmeans.cluster_centers_\n",
    "cluster_assignments = kmeans.labels_\n",
    "\n",
    "fig = plt.figure()\n",
    "ax = fig.add_subplot(111)\n",
    "\n",
    "# Assign different colors to each cluster\n",
    "colors = ['r', 'g', 'b', 'c', 'm', 'y', 'k', 'b']\n",
    "cluster_colors = [colors[i] for i in cluster_assignments]\n",
    "\n",
    "# Plot the data points\n",
    "ax.scatter(df_feat['Age'], df_feat['CustAccountBalance'], c=cluster_colors)\n",
    "\n",
    "# Plot the centroids\n",
    "ax.scatter(centroids[:, 0], centroids[:, 1], c='black', marker='*', s=200)\n",
    "\n",
    "# Set the axis labels\n",
    "ax.set_xlabel('Age')\n",
    "ax.set_ylabel('CustAccountBalance')\n",
    "ax.set_title('K-Means Clustering')\n",
    "\n",
    "ax.set_xlim([min(df_feat['Age']), max(df_feat['Age'])])\n",
    "ax.set_ylim([min(df_feat['CustAccountBalance']), max(df_feat['CustAccountBalance'])])\n",
    "\n",
    "plt.show()"
   ]
  },
  {
   "attachments": {},
   "cell_type": "markdown",
   "metadata": {},
   "source": [
    "Para finalizar con el análisis del modelo creado manualmente, se quizo determinar la validez del modelo a través de Davies-Bouldin Index. A continuación, como se puede observar, se obtuvo un valor de 0.42. \n",
    "\n",
    "Esto es bueno, ya que mientras más bajo es este valor, mejor es la separación entre los clusters. Cabe destacar que el valor máximo promedio de este índice es entre 2 a 3 (pero podría llegar hasta el infinito positivo), por lo cual este valor cercano a 0 es casi que excelente. "
   ]
  },
  {
   "cell_type": "code",
   "execution_count": null,
   "metadata": {},
   "outputs": [
    {
     "name": "stdout",
     "output_type": "stream",
     "text": [
      "0.4267087573574601\n"
     ]
    }
   ],
   "source": [
    "# Davies-Bouldin Index\n",
    "print(davies_bouldin_score(X, cluster_assignments))"
   ]
  },
  {
   "attachments": {},
   "cell_type": "markdown",
   "metadata": {},
   "source": [
    "### Task 2.1: Implementacion de Mixture Models"
   ]
  },
  {
   "cell_type": "code",
   "execution_count": null,
   "metadata": {},
   "outputs": [],
   "source": [
    "import numpy as np\n",
    "from scipy.stats import norm\n",
    "\n",
    "def gaussian_mixture(X, n_components, max_iter=100, tol=1e-6):\n",
    "    n_samples, n_features = X.shape\n",
    "\n",
    "    # Inicialización aleatoria de las medias y desviaciones estándar\n",
    "    means = np.random.rand(n_components, n_features)\n",
    "    stds = np.random.rand(n_components, n_features)\n",
    "\n",
    "    # Inicialización uniforme de las probabilidades de clase\n",
    "    class_probs = np.ones(n_components) / n_components\n",
    "\n",
    "    # Algoritmo EM para estimar los parámetros del modelo\n",
    "    for i in range(max_iter):\n",
    "        # E-step: calcular las responsabilidades\n",
    "        responsibilities = np.zeros((n_samples, n_components))\n",
    "        for j in range(n_components):\n",
    "            responsibilities[:, j] = class_probs[j] * norm.pdf(X, means[j], stds[j])\n",
    "        responsibilities /= responsibilities.sum(axis=1, keepdims=True)\n",
    "\n",
    "        # M-step: actualizar los parámetros\n",
    "        N_k = responsibilities.sum(axis=0)\n",
    "        means = (responsibilities.T @ X) / N_k[:, None]\n",
    "        stds = np.sqrt((responsibilities.T @ (X - means[:, None])**2) / N_k[:, None])\n",
    "        class_probs = N_k / n_samples\n",
    "\n",
    "        # Comprobar la convergencia\n",
    "        if np.abs(means - old_means).max() < tol:\n",
    "            break\n",
    "        old_means = means.copy()\n",
    "\n",
    "    # Devolver las medias, desviaciones estándar y probabilidades de clase finales\n",
    "    return means, stds, class_probs\n",
    "\n",
    "\n",
    "# Crear una matriz de datos X con las columnas seleccionadas\n",
    "X = df_feat[['Age', 'CustAccountBalance', 'TransactionAmount (INR)']].values\n",
    "\n",
    "# Ejecutar la función gaussian_mixture con dos componentes\n",
    "means, stds, class_probs = gaussian_mixture(X, n_components=2)\n",
    "\n",
    "# Imprimir los resultados\n",
    "print(\"Means:\", means)\n",
    "print(\"Standard deviations:\", stds)\n",
    "print(\"Class probabilities:\", class_probs)\n"
   ]
  },
  {
   "attachments": {},
   "cell_type": "markdown",
   "metadata": {},
   "source": [
    "### Task 2.2: Implementacion de Mixture Models con libreria"
   ]
  },
  {
   "cell_type": "code",
   "execution_count": null,
   "metadata": {},
   "outputs": [
    {
     "ename": "NameError",
     "evalue": "name 'X' is not defined",
     "output_type": "error",
     "traceback": [
      "\u001b[1;31m---------------------------------------------------------------------------\u001b[0m",
      "\u001b[1;31mNameError\u001b[0m                                 Traceback (most recent call last)",
      "Cell \u001b[1;32mIn[1], line 7\u001b[0m\n\u001b[0;32m      4\u001b[0m gmm \u001b[39m=\u001b[39m GaussianMixture(n_components\u001b[39m=\u001b[39m\u001b[39m2\u001b[39m, covariance_type\u001b[39m=\u001b[39m\u001b[39m'\u001b[39m\u001b[39mfull\u001b[39m\u001b[39m'\u001b[39m)\n\u001b[0;32m      6\u001b[0m \u001b[39m# Fit the model to the data\u001b[39;00m\n\u001b[1;32m----> 7\u001b[0m gmm\u001b[39m.\u001b[39mfit(X)\n\u001b[0;32m      9\u001b[0m \u001b[39m# Predict the cluster assignments for the data\u001b[39;00m\n\u001b[0;32m     10\u001b[0m labels \u001b[39m=\u001b[39m gmm\u001b[39m.\u001b[39mpredict(X)\n",
      "\u001b[1;31mNameError\u001b[0m: name 'X' is not defined"
     ]
    }
   ],
   "source": [
    "from sklearn.mixture import GaussianMixture\n",
    "\n",
    "# Create a Gaussian Mixture Model object\n",
    "gmm = GaussianMixture(n_components=2, covariance_type='full')\n",
    "\n",
    "# Fit the model to the data\n",
    "gmm.fit(X)\n",
    "\n",
    "# Predict the cluster assignments for the data\n",
    "labels = gmm.predict(X)\n",
    "\n",
    "# Get the means and covariances of each cluster\n",
    "means = gmm.means_\n",
    "covariances = gmm.covariances_\n"
   ]
  }
 ],
 "metadata": {
  "kernelspec": {
   "display_name": "Python 3",
   "language": "python",
   "name": "python3"
  },
  "language_info": {
   "codemirror_mode": {
    "name": "ipython",
    "version": 3
   },
   "file_extension": ".py",
   "mimetype": "text/x-python",
   "name": "python",
   "nbconvert_exporter": "python",
   "pygments_lexer": "ipython3",
   "version": "3.10.8"
  },
  "orig_nbformat": 4,
  "vscode": {
   "interpreter": {
    "hash": "397704579725e15f5c7cb49fe5f0341eb7531c82d19f2c29d197e8b64ab5776b"
   }
  }
 },
 "nbformat": 4,
 "nbformat_minor": 2
}
