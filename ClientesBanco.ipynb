{
 "cells": [
  {
   "attachments": {},
   "cell_type": "markdown",
   "metadata": {},
   "source": [
    "# Laboratorio 8 (Segmentación de Clientes de Banco) - Inteligencia Artificial\n",
    "Autores: Stefano Aragoni, Carol Arévalo, Luis Santos\n",
    "\n",
    "_________"
   ]
  },
  {
   "attachments": {},
   "cell_type": "markdown",
   "metadata": {},
   "source": [
    "En este caso, se tiene un dataset en el cual se desea analizar la segmentación de clientes de un banco. Es dataset provisto contiene información de diferentes trasacciones realizadas por clientes. Del cliente, tenemos información como su fecha de nacimiento, género, ubicación, dinero actual en su cuenta, así como la cantidad de dinero involucrada en la respectiva transacción.\n",
    "\n",
    "A continuación se presenta cómo se utilizó Mixed Model para poder hacer la agrupación de clientes según diferentes características provistas por el dataset.\n",
    "\n",
    "_____________"
   ]
  },
  {
   "attachments": {},
   "cell_type": "markdown",
   "metadata": {},
   "source": [
    "### Task 1.0: Exploración y Limpieza de Datos\n",
    "Como primer paso, se importa el archivo a través de distintas librerías. "
   ]
  },
  {
   "cell_type": "code",
   "execution_count": 49,
   "metadata": {},
   "outputs": [
    {
     "data": {
      "text/html": [
       "<div>\n",
       "<style scoped>\n",
       "    .dataframe tbody tr th:only-of-type {\n",
       "        vertical-align: middle;\n",
       "    }\n",
       "\n",
       "    .dataframe tbody tr th {\n",
       "        vertical-align: top;\n",
       "    }\n",
       "\n",
       "    .dataframe thead th {\n",
       "        text-align: right;\n",
       "    }\n",
       "</style>\n",
       "<table border=\"1\" class=\"dataframe\">\n",
       "  <thead>\n",
       "    <tr style=\"text-align: right;\">\n",
       "      <th></th>\n",
       "      <th>TransactionID</th>\n",
       "      <th>CustomerID</th>\n",
       "      <th>CustomerDOB</th>\n",
       "      <th>CustGender</th>\n",
       "      <th>CustLocation</th>\n",
       "      <th>CustAccountBalance</th>\n",
       "      <th>TransactionDate</th>\n",
       "      <th>TransactionTime</th>\n",
       "      <th>TransactionAmount (INR)</th>\n",
       "    </tr>\n",
       "  </thead>\n",
       "  <tbody>\n",
       "    <tr>\n",
       "      <th>0</th>\n",
       "      <td>T1</td>\n",
       "      <td>C5841053</td>\n",
       "      <td>10/1/94</td>\n",
       "      <td>F</td>\n",
       "      <td>JAMSHEDPUR</td>\n",
       "      <td>17819.05</td>\n",
       "      <td>2/8/16</td>\n",
       "      <td>143207</td>\n",
       "      <td>25.0</td>\n",
       "    </tr>\n",
       "    <tr>\n",
       "      <th>1</th>\n",
       "      <td>T2</td>\n",
       "      <td>C2142763</td>\n",
       "      <td>4/4/57</td>\n",
       "      <td>M</td>\n",
       "      <td>JHAJJAR</td>\n",
       "      <td>2270.69</td>\n",
       "      <td>2/8/16</td>\n",
       "      <td>141858</td>\n",
       "      <td>27999.0</td>\n",
       "    </tr>\n",
       "    <tr>\n",
       "      <th>2</th>\n",
       "      <td>T3</td>\n",
       "      <td>C4417068</td>\n",
       "      <td>26/11/96</td>\n",
       "      <td>F</td>\n",
       "      <td>MUMBAI</td>\n",
       "      <td>17874.44</td>\n",
       "      <td>2/8/16</td>\n",
       "      <td>142712</td>\n",
       "      <td>459.0</td>\n",
       "    </tr>\n",
       "    <tr>\n",
       "      <th>3</th>\n",
       "      <td>T4</td>\n",
       "      <td>C5342380</td>\n",
       "      <td>14/9/73</td>\n",
       "      <td>F</td>\n",
       "      <td>MUMBAI</td>\n",
       "      <td>866503.21</td>\n",
       "      <td>2/8/16</td>\n",
       "      <td>142714</td>\n",
       "      <td>2060.0</td>\n",
       "    </tr>\n",
       "    <tr>\n",
       "      <th>4</th>\n",
       "      <td>T5</td>\n",
       "      <td>C9031234</td>\n",
       "      <td>24/3/88</td>\n",
       "      <td>F</td>\n",
       "      <td>NAVI MUMBAI</td>\n",
       "      <td>6714.43</td>\n",
       "      <td>2/8/16</td>\n",
       "      <td>181156</td>\n",
       "      <td>1762.5</td>\n",
       "    </tr>\n",
       "  </tbody>\n",
       "</table>\n",
       "</div>"
      ],
      "text/plain": [
       "  TransactionID CustomerID CustomerDOB CustGender CustLocation  \\\n",
       "0            T1   C5841053     10/1/94          F   JAMSHEDPUR   \n",
       "1            T2   C2142763      4/4/57          M      JHAJJAR   \n",
       "2            T3   C4417068    26/11/96          F       MUMBAI   \n",
       "3            T4   C5342380     14/9/73          F       MUMBAI   \n",
       "4            T5   C9031234     24/3/88          F  NAVI MUMBAI   \n",
       "\n",
       "   CustAccountBalance TransactionDate  TransactionTime  \\\n",
       "0            17819.05          2/8/16           143207   \n",
       "1             2270.69          2/8/16           141858   \n",
       "2            17874.44          2/8/16           142712   \n",
       "3           866503.21          2/8/16           142714   \n",
       "4             6714.43          2/8/16           181156   \n",
       "\n",
       "   TransactionAmount (INR)  \n",
       "0                     25.0  \n",
       "1                  27999.0  \n",
       "2                    459.0  \n",
       "3                   2060.0  \n",
       "4                   1762.5  "
      ]
     },
     "execution_count": 49,
     "metadata": {},
     "output_type": "execute_result"
    }
   ],
   "source": [
    "# Importar librerías \n",
    "import numpy as np\n",
    "import matplotlib.pyplot as plt\n",
    "import pandas as pd\n",
    "import seaborn as sns\n",
    "from sklearn import datasets\n",
    "from sklearn.model_selection import train_test_split\n",
    "from sklearn.metrics import confusion_matrix\n",
    "from sklearn.metrics import accuracy_score\n",
    "from sklearn.metrics import classification_report\n",
    "\n",
    "# Cargar el dataset\n",
    "data = pd.read_csv('bank_transactions.csv')\n",
    "\n",
    "data.head()\n"
   ]
  },
  {
   "attachments": {},
   "cell_type": "markdown",
   "metadata": {},
   "source": [
    "##### Datos Faltantes\n",
    "En este caso, se encontró que CustomerDOB contaba con datos faltantes. Por tal razón, posteriormente se utilizó un método para poder rellenar dichos datos faltantes."
   ]
  },
  {
   "cell_type": "code",
   "execution_count": 50,
   "metadata": {},
   "outputs": [
    {
     "data": {
      "text/plain": [
       "Index(['CustomerDOB', 'CustGender', 'CustLocation', 'CustAccountBalance'], dtype='object')"
      ]
     },
     "execution_count": 50,
     "metadata": {},
     "output_type": "execute_result"
    },
    {
     "data": {
      "image/png": "[encoded data removed]",
      "text/plain": [
       "<Figure size 640x480 with 1 Axes>"
      ]
     },
     "metadata": {},
     "output_type": "display_data"
    }
   ],
   "source": [
    "# Matriz de datos faltantes\n",
    "sns.heatmap(data.isnull(), cbar=False)\n",
    "\n",
    "# Mostrar columnas con datos faltantes, o con datos fuera de lugar (como un string en columna numérica)\n",
    "data.columns[data.isnull().any()]"
   ]
  },
  {
   "attachments": {},
   "cell_type": "markdown",
   "metadata": {},
   "source": [
    "En caso hayan datos faltantes que no se pueden observar en la gráfica, a continuación se realizó un proceso que rellena datos faltantes con promedio de datos."
   ]
  },
  {
   "cell_type": "code",
   "execution_count": 51,
   "metadata": {},
   "outputs": [
    {
     "data": {
      "text/plain": [
       "Index([], dtype='object')"
      ]
     },
     "execution_count": 51,
     "metadata": {},
     "output_type": "execute_result"
    }
   ],
   "source": [
    "for col in data.columns[data.isnull().any()]:\n",
    "\n",
    "    if data[col].dtype == 'float64' or data[col].dtype == 'int64':\n",
    "        data[col].fillna(data[col].mean(), inplace=True)\n",
    "\n",
    "    else:\n",
    "        data[col].fillna(data[col].mode()[0], inplace=True)\n",
    "\n",
    "data.columns[data.isnull().any()]"
   ]
  },
  {
   "attachments": {},
   "cell_type": "markdown",
   "metadata": {},
   "source": [
    "##### Encoding\n",
    "Convertir variables que no son numéricas a numéricas. En este caso, principalmente se estaba conviertiendo fecha de nacimiento a edad. Se mapeó género a 0 o 1, correspondiente a M y F. Por otro lado, se eliminaron variables de ID, ya que no presentan información útil para la clasificación de clientes; solo son identificadores únicos."
   ]
  },
  {
   "cell_type": "code",
   "execution_count": 52,
   "metadata": {},
   "outputs": [
    {
     "data": {
      "text/html": [
       "<div>\n",
       "<style scoped>\n",
       "    .dataframe tbody tr th:only-of-type {\n",
       "        vertical-align: middle;\n",
       "    }\n",
       "\n",
       "    .dataframe tbody tr th {\n",
       "        vertical-align: top;\n",
       "    }\n",
       "\n",
       "    .dataframe thead th {\n",
       "        text-align: right;\n",
       "    }\n",
       "</style>\n",
       "<table border=\"1\" class=\"dataframe\">\n",
       "  <thead>\n",
       "    <tr style=\"text-align: right;\">\n",
       "      <th></th>\n",
       "      <th>CustGender</th>\n",
       "      <th>CustLocation</th>\n",
       "      <th>CustAccountBalance</th>\n",
       "      <th>TransactionAmount (INR)</th>\n",
       "      <th>Age</th>\n",
       "    </tr>\n",
       "  </thead>\n",
       "  <tbody>\n",
       "    <tr>\n",
       "      <th>0</th>\n",
       "      <td>1.0</td>\n",
       "      <td>JAMSHEDPUR</td>\n",
       "      <td>17819.05</td>\n",
       "      <td>25.0</td>\n",
       "      <td>29</td>\n",
       "    </tr>\n",
       "    <tr>\n",
       "      <th>1</th>\n",
       "      <td>0.0</td>\n",
       "      <td>JHAJJAR</td>\n",
       "      <td>2270.69</td>\n",
       "      <td>27999.0</td>\n",
       "      <td>66</td>\n",
       "    </tr>\n",
       "    <tr>\n",
       "      <th>2</th>\n",
       "      <td>1.0</td>\n",
       "      <td>MUMBAI</td>\n",
       "      <td>17874.44</td>\n",
       "      <td>459.0</td>\n",
       "      <td>27</td>\n",
       "    </tr>\n",
       "    <tr>\n",
       "      <th>3</th>\n",
       "      <td>1.0</td>\n",
       "      <td>MUMBAI</td>\n",
       "      <td>866503.21</td>\n",
       "      <td>2060.0</td>\n",
       "      <td>50</td>\n",
       "    </tr>\n",
       "    <tr>\n",
       "      <th>4</th>\n",
       "      <td>1.0</td>\n",
       "      <td>NAVI MUMBAI</td>\n",
       "      <td>6714.43</td>\n",
       "      <td>1762.5</td>\n",
       "      <td>35</td>\n",
       "    </tr>\n",
       "  </tbody>\n",
       "</table>\n",
       "</div>"
      ],
      "text/plain": [
       "   CustGender CustLocation  CustAccountBalance  TransactionAmount (INR)  Age\n",
       "0         1.0   JAMSHEDPUR            17819.05                     25.0   29\n",
       "1         0.0      JHAJJAR             2270.69                  27999.0   66\n",
       "2         1.0       MUMBAI            17874.44                    459.0   27\n",
       "3         1.0       MUMBAI           866503.21                   2060.0   50\n",
       "4         1.0  NAVI MUMBAI             6714.43                   1762.5   35"
      ]
     },
     "execution_count": 52,
     "metadata": {},
     "output_type": "execute_result"
    }
   ],
   "source": [
    "import datetime\n",
    "from datetime import timedelta, date\n",
    "from sklearn.preprocessing import LabelEncoder\n",
    "\n",
    "#-------------------EDAD-------------------------\n",
    "# Convertir CustomerDOB a año de nacimiento\n",
    "data['YOB'] = '19' + data['CustomerDOB'].str[-2:]\n",
    "data['YOB'] = data['YOB'].astype(int)\n",
    "\n",
    "# Eliminar columna de DOB\n",
    "data = data.drop(['CustomerDOB'], axis=1)\n",
    "\n",
    "# Determinar edad\n",
    "data['Age'] = 2023 - data['YOB']\n",
    "\n",
    "# Eliminar columna de YOB\n",
    "data = data.drop(['YOB'], axis=1)\n",
    "\n",
    "#-------------------GENERO-------------------------\n",
    "# Convertir genero a int. M = 0, F = 1\n",
    "data['CustGender'] = data['CustGender'].map({'M': 0, 'F': 1})\n",
    "\n",
    "#------------ELIMINAR TRANSACTIONS----------------\n",
    "data = data.drop(['TransactionID'], axis=1)\n",
    "\n",
    "#-----------------ELIMINAR CID--------------------\n",
    "data = data.drop(['CustomerID'], axis=1)\n",
    "\n",
    "#----------ELIMINAR VARIABLES QUE NO DAN INFO DE CLIENTE --------------\n",
    "data = data.drop(['TransactionDate'], axis=1)\n",
    "\n",
    "data.head()"
   ]
  },
  {
   "cell_type": "code",
   "execution_count": 53,
   "metadata": {},
   "outputs": [
    {
     "data": {
      "text/html": [
       "<div>\n",
       "<style scoped>\n",
       "    .dataframe tbody tr th:only-of-type {\n",
       "        vertical-align: middle;\n",
       "    }\n",
       "\n",
       "    .dataframe tbody tr th {\n",
       "        vertical-align: top;\n",
       "    }\n",
       "\n",
       "    .dataframe thead th {\n",
       "        text-align: right;\n",
       "    }\n",
       "</style>\n",
       "<table border=\"1\" class=\"dataframe\">\n",
       "  <thead>\n",
       "    <tr style=\"text-align: right;\">\n",
       "      <th></th>\n",
       "      <th>CustGender</th>\n",
       "      <th>CustLocation</th>\n",
       "      <th>CustAccountBalance</th>\n",
       "      <th>TransactionAmount (INR)</th>\n",
       "      <th>Age</th>\n",
       "    </tr>\n",
       "  </thead>\n",
       "  <tbody>\n",
       "    <tr>\n",
       "      <th>0</th>\n",
       "      <td>1.0</td>\n",
       "      <td>3586</td>\n",
       "      <td>17819.05</td>\n",
       "      <td>25.0</td>\n",
       "      <td>29</td>\n",
       "    </tr>\n",
       "    <tr>\n",
       "      <th>1</th>\n",
       "      <td>0.0</td>\n",
       "      <td>3648</td>\n",
       "      <td>2270.69</td>\n",
       "      <td>27999.0</td>\n",
       "      <td>66</td>\n",
       "    </tr>\n",
       "    <tr>\n",
       "      <th>2</th>\n",
       "      <td>1.0</td>\n",
       "      <td>5268</td>\n",
       "      <td>17874.44</td>\n",
       "      <td>459.0</td>\n",
       "      <td>27</td>\n",
       "    </tr>\n",
       "    <tr>\n",
       "      <th>3</th>\n",
       "      <td>1.0</td>\n",
       "      <td>5268</td>\n",
       "      <td>866503.21</td>\n",
       "      <td>2060.0</td>\n",
       "      <td>50</td>\n",
       "    </tr>\n",
       "    <tr>\n",
       "      <th>4</th>\n",
       "      <td>1.0</td>\n",
       "      <td>5657</td>\n",
       "      <td>6714.43</td>\n",
       "      <td>1762.5</td>\n",
       "      <td>35</td>\n",
       "    </tr>\n",
       "  </tbody>\n",
       "</table>\n",
       "</div>"
      ],
      "text/plain": [
       "   CustGender  CustLocation  CustAccountBalance  TransactionAmount (INR)  Age\n",
       "0         1.0          3586            17819.05                     25.0   29\n",
       "1         0.0          3648             2270.69                  27999.0   66\n",
       "2         1.0          5268            17874.44                    459.0   27\n",
       "3         1.0          5268           866503.21                   2060.0   50\n",
       "4         1.0          5657             6714.43                   1762.5   35"
      ]
     },
     "execution_count": 53,
     "metadata": {},
     "output_type": "execute_result"
    }
   ],
   "source": [
    "# Convierte la ubicacion a un numero\n",
    "le = LabelEncoder()\n",
    "data[\"CustLocation\"] = le.fit_transform(data[\"CustLocation\"])\n",
    "\n",
    "data.head()"
   ]
  },
  {
   "attachments": {},
   "cell_type": "markdown",
   "metadata": {},
   "source": [
    "##### Balanceo\n",
    "Se determino que es importantes que la siguiente variable esté balanceada:\n",
    "\n",
    "-CustGender: para verificar que exista una cantidad equilibrada de datos para ambos géneros\n"
   ]
  },
  {
   "cell_type": "code",
   "execution_count": 54,
   "metadata": {},
   "outputs": [],
   "source": [
    "data2 = data.copy()"
   ]
  },
  {
   "cell_type": "code",
   "execution_count": 55,
   "metadata": {},
   "outputs": [
    {
     "name": "stdout",
     "output_type": "stream",
     "text": [
      "Número de F: 281936\n",
      "Número de M: 766630\n",
      "Número de F balanceado: 766630\n",
      "Número de M balanceado: 766630\n"
     ]
    }
   ],
   "source": [
    "from imblearn.over_sampling import SMOTE\n",
    "\n",
    "#Calcular cuantas columans son F y cuantas M en CustGender\n",
    "print('Número de F:',data2[data2['CustGender'] == 1].shape[0])\n",
    "print('Número de M:',data2[data2['CustGender'] == 0].shape[0])\n",
    "data2 = data2.dropna(subset=['CustGender'])\n",
    "\n",
    "# Separar las características y la variable objetivo\n",
    "X_temp = data2.drop('CustGender', axis=1)\n",
    "y_temp = data2['CustGender']\n",
    "\n",
    "#Aplicar SMOTE\n",
    "smote = SMOTE()\n",
    "X_resampled, y_resampled = smote.fit_resample(X_temp, y_temp)\n",
    "\n",
    "data2 = pd.concat([X_resampled, y_resampled], axis=1)\n",
    "\n",
    "# Contar los valores de cada clase\n",
    "print('Número de F balanceado:',data2[data2['CustGender'] == 1].shape[0])\n",
    "print('Número de M balanceado:',data2[data2['CustGender'] == 0].shape[0])\n",
    "\n"
   ]
  },
  {
   "attachments": {},
   "cell_type": "markdown",
   "metadata": {},
   "source": [
    "##### Escalar\n",
    "En este caso, se utilizó la librería de SKLearn para poder escalar y normalizar los datos que lo necesitaran. Asimismo, también se hizo un análisis pre y post escalamiento para determinar la distribución de los datos. En el preprocesamiento, se podía observar cómo ciertas variables tenían una alta desviación estándar a comparación de su respectiva media. Esto fue solucionado a través de la función de MinMaxScaler(). \n",
    "\n",
    "> Asimismo, es importante mencionar que la normalización de datos es importante para, según Microsoft, \"tener datos que usan una escala común, sin distorsionar las diferencias en los intervalos de valores ni perder información\". https://learn.microsoft.com/es-es/azure/machine-learning/component-reference/normalize-data"
   ]
  },
  {
   "cell_type": "code",
   "execution_count": 56,
   "metadata": {},
   "outputs": [
    {
     "name": "stdout",
     "output_type": "stream",
     "text": [
      "\n",
      "\n",
      "Media y desviación estándar de cada columna:\n"
     ]
    },
    {
     "data": {
      "text/html": [
       "<div>\n",
       "<style scoped>\n",
       "    .dataframe tbody tr th:only-of-type {\n",
       "        vertical-align: middle;\n",
       "    }\n",
       "\n",
       "    .dataframe tbody tr th {\n",
       "        vertical-align: top;\n",
       "    }\n",
       "\n",
       "    .dataframe thead th {\n",
       "        text-align: right;\n",
       "    }\n",
       "</style>\n",
       "<table border=\"1\" class=\"dataframe\">\n",
       "  <thead>\n",
       "    <tr style=\"text-align: right;\">\n",
       "      <th></th>\n",
       "      <th>CustLocation</th>\n",
       "      <th>CustAccountBalance</th>\n",
       "      <th>TransactionAmount (INR)</th>\n",
       "      <th>Age</th>\n",
       "      <th>CustGender</th>\n",
       "    </tr>\n",
       "  </thead>\n",
       "  <tbody>\n",
       "    <tr>\n",
       "      <th>count</th>\n",
       "      <td>1.533260e+06</td>\n",
       "      <td>1.533260e+06</td>\n",
       "      <td>1.533260e+06</td>\n",
       "      <td>1.533260e+06</td>\n",
       "      <td>1533260.0</td>\n",
       "    </tr>\n",
       "    <tr>\n",
       "      <th>mean</th>\n",
       "      <td>4.096913e+03</td>\n",
       "      <td>1.137327e+05</td>\n",
       "      <td>1.597573e+03</td>\n",
       "      <td>4.202104e+01</td>\n",
       "      <td>0.5</td>\n",
       "    </tr>\n",
       "    <tr>\n",
       "      <th>std</th>\n",
       "      <td>2.357180e+03</td>\n",
       "      <td>8.410960e+05</td>\n",
       "      <td>6.388416e+03</td>\n",
       "      <td>2.007238e+01</td>\n",
       "      <td>0.5</td>\n",
       "    </tr>\n",
       "    <tr>\n",
       "      <th>min</th>\n",
       "      <td>0.000000e+00</td>\n",
       "      <td>0.000000e+00</td>\n",
       "      <td>0.000000e+00</td>\n",
       "      <td>2.400000e+01</td>\n",
       "      <td>0.0</td>\n",
       "    </tr>\n",
       "    <tr>\n",
       "      <th>25%</th>\n",
       "      <td>2.075000e+03</td>\n",
       "      <td>5.296190e+03</td>\n",
       "      <td>1.790000e+02</td>\n",
       "      <td>3.200000e+01</td>\n",
       "      <td>0.0</td>\n",
       "    </tr>\n",
       "    <tr>\n",
       "      <th>50%</th>\n",
       "      <td>4.011000e+03</td>\n",
       "      <td>1.810000e+04</td>\n",
       "      <td>4.921777e+02</td>\n",
       "      <td>3.600000e+01</td>\n",
       "      <td>0.5</td>\n",
       "    </tr>\n",
       "    <tr>\n",
       "      <th>75%</th>\n",
       "      <td>5.792000e+03</td>\n",
       "      <td>6.107818e+04</td>\n",
       "      <td>1.269000e+03</td>\n",
       "      <td>4.200000e+01</td>\n",
       "      <td>1.0</td>\n",
       "    </tr>\n",
       "    <tr>\n",
       "      <th>max</th>\n",
       "      <td>9.354000e+03</td>\n",
       "      <td>1.150355e+08</td>\n",
       "      <td>1.560035e+06</td>\n",
       "      <td>1.230000e+02</td>\n",
       "      <td>1.0</td>\n",
       "    </tr>\n",
       "  </tbody>\n",
       "</table>\n",
       "</div>"
      ],
      "text/plain": [
       "       CustLocation  CustAccountBalance  TransactionAmount (INR)  \\\n",
       "count  1.533260e+06        1.533260e+06             1.533260e+06   \n",
       "mean   4.096913e+03        1.137327e+05             1.597573e+03   \n",
       "std    2.357180e+03        8.410960e+05             6.388416e+03   \n",
       "min    0.000000e+00        0.000000e+00             0.000000e+00   \n",
       "25%    2.075000e+03        5.296190e+03             1.790000e+02   \n",
       "50%    4.011000e+03        1.810000e+04             4.921777e+02   \n",
       "75%    5.792000e+03        6.107818e+04             1.269000e+03   \n",
       "max    9.354000e+03        1.150355e+08             1.560035e+06   \n",
       "\n",
       "                Age  CustGender  \n",
       "count  1.533260e+06   1533260.0  \n",
       "mean   4.202104e+01         0.5  \n",
       "std    2.007238e+01         0.5  \n",
       "min    2.400000e+01         0.0  \n",
       "25%    3.200000e+01         0.0  \n",
       "50%    3.600000e+01         0.5  \n",
       "75%    4.200000e+01         1.0  \n",
       "max    1.230000e+02         1.0  "
      ]
     },
     "execution_count": 56,
     "metadata": {},
     "output_type": "execute_result"
    }
   ],
   "source": [
    "# Calcular media y desviación estándar de cada columna\n",
    "print('\\n\\nMedia y desviación estándar de cada columna:')\n",
    "data2.describe()"
   ]
  },
  {
   "cell_type": "code",
   "execution_count": 57,
   "metadata": {},
   "outputs": [
    {
     "data": {
      "text/html": [
       "<div>\n",
       "<style scoped>\n",
       "    .dataframe tbody tr th:only-of-type {\n",
       "        vertical-align: middle;\n",
       "    }\n",
       "\n",
       "    .dataframe tbody tr th {\n",
       "        vertical-align: top;\n",
       "    }\n",
       "\n",
       "    .dataframe thead th {\n",
       "        text-align: right;\n",
       "    }\n",
       "</style>\n",
       "<table border=\"1\" class=\"dataframe\">\n",
       "  <thead>\n",
       "    <tr style=\"text-align: right;\">\n",
       "      <th></th>\n",
       "      <th>CustLocation</th>\n",
       "      <th>CustAccountBalance</th>\n",
       "      <th>TransactionAmount (INR)</th>\n",
       "      <th>Age</th>\n",
       "      <th>CustGender</th>\n",
       "    </tr>\n",
       "  </thead>\n",
       "  <tbody>\n",
       "    <tr>\n",
       "      <th>0</th>\n",
       "      <td>0.383365</td>\n",
       "      <td>0.000155</td>\n",
       "      <td>0.000016</td>\n",
       "      <td>0.050505</td>\n",
       "      <td>1.0</td>\n",
       "    </tr>\n",
       "    <tr>\n",
       "      <th>1</th>\n",
       "      <td>0.389994</td>\n",
       "      <td>0.000020</td>\n",
       "      <td>0.017948</td>\n",
       "      <td>0.424242</td>\n",
       "      <td>0.0</td>\n",
       "    </tr>\n",
       "    <tr>\n",
       "      <th>2</th>\n",
       "      <td>0.563182</td>\n",
       "      <td>0.000155</td>\n",
       "      <td>0.000294</td>\n",
       "      <td>0.030303</td>\n",
       "      <td>1.0</td>\n",
       "    </tr>\n",
       "    <tr>\n",
       "      <th>3</th>\n",
       "      <td>0.563182</td>\n",
       "      <td>0.007532</td>\n",
       "      <td>0.001320</td>\n",
       "      <td>0.262626</td>\n",
       "      <td>1.0</td>\n",
       "    </tr>\n",
       "    <tr>\n",
       "      <th>4</th>\n",
       "      <td>0.604768</td>\n",
       "      <td>0.000058</td>\n",
       "      <td>0.001130</td>\n",
       "      <td>0.111111</td>\n",
       "      <td>1.0</td>\n",
       "    </tr>\n",
       "  </tbody>\n",
       "</table>\n",
       "</div>"
      ],
      "text/plain": [
       "   CustLocation  CustAccountBalance  TransactionAmount (INR)       Age  \\\n",
       "0      0.383365            0.000155                 0.000016  0.050505   \n",
       "1      0.389994            0.000020                 0.017948  0.424242   \n",
       "2      0.563182            0.000155                 0.000294  0.030303   \n",
       "3      0.563182            0.007532                 0.001320  0.262626   \n",
       "4      0.604768            0.000058                 0.001130  0.111111   \n",
       "\n",
       "   CustGender  \n",
       "0         1.0  \n",
       "1         0.0  \n",
       "2         1.0  \n",
       "3         1.0  \n",
       "4         1.0  "
      ]
     },
     "execution_count": 57,
     "metadata": {},
     "output_type": "execute_result"
    }
   ],
   "source": [
    "from sklearn.preprocessing import MinMaxScaler\n",
    "\n",
    "scaler = MinMaxScaler()\n",
    "scaled_features = scaler.fit_transform(data2)\n",
    "df_feat = pd.DataFrame(scaled_features, columns=data2.columns)\n",
    "df_feat.head()"
   ]
  },
  {
   "attachments": {},
   "cell_type": "markdown",
   "metadata": {},
   "source": [
    "##### Selección de Variables\n",
    "\n",
    "Finalmente, se quiso determinar los 2 features que se estarían utilizando para la realización del modelo de agrupación. En este caso, se quería dividir los clientes de un banco en grupos, para así entender la distribución de los mismos. En este caso, sí o sí se quería utilizar como variable CustAccountBalance; ya que es de interés del banco saber qué grupos de personas tienen la mayor cantidad de dinero en el mismo. \n",
    "\n",
    "Por otro lado, otra variable de interés era la edad, para así poder entender cómo el dinero del banco está distribuido entre las personas. \n",
    "\n",
    "Cabe destacar que se hizo un análisis de correlación, sin embargo, se pudo determinar que no existe mucha correlación entre las mismas. El top de variables con más correlación a CustAccountBalance son:\n",
    "\n",
    "1. Age                \n",
    "2. TransactionAmount (INR)\n",
    "3. CustGender                    \n",
    "\n",
    "En este caso se utilizará CustAccountBalance, Age."
   ]
  },
  {
   "cell_type": "code",
   "execution_count": 58,
   "metadata": {},
   "outputs": [
    {
     "name": "stdout",
     "output_type": "stream",
     "text": [
      "CustAccountBalance         1.000000\n",
      "Age                        0.094365\n",
      "TransactionAmount (INR)    0.056232\n",
      "CustGender                 0.004431\n",
      "CustLocation               0.002366\n",
      "Name: CustAccountBalance, dtype: float64\n"
     ]
    }
   ],
   "source": [
    "# Correlación entre las columnas y el status, valores absolutos\n",
    "corr = df_feat.corr()['CustAccountBalance'].abs().sort_values(ascending=False)\n",
    "print(corr)\n",
    "\n",
    "X = df_feat[['Age', 'CustAccountBalance']].values"
   ]
  },
  {
   "attachments": {},
   "cell_type": "markdown",
   "metadata": {},
   "source": [
    "### Task 1.1: Implementacion de K-Means\n",
    "En esta primera sección, se creó manualmente las funciones correspondientes para el funcionamiento del modelo de K-Means"
   ]
  },
  {
   "cell_type": "code",
   "execution_count": 59,
   "metadata": {},
   "outputs": [],
   "source": [
    "#modelo K-means\n",
    "\n",
    "import numpy as np\n",
    "import matplotlib.pyplot as plt\n",
    "from mpl_toolkits.mplot3d import Axes3D\n",
    "from sklearn.metrics import silhouette_score\n",
    "import pandas as pd\n",
    "\n",
    "def initialize_centroids(X, K):\n",
    "    # Inicializar los centroides al azar a partir de los puntos de datos\n",
    "    centroids = X[np.random.choice(X.shape[0], K, replace=False), :]\n",
    "    return centroids\n",
    "\n",
    "def assign_clusters(X, centroids):\n",
    "    # Asignar cada punto de datos al clúster más cercano\n",
    "    distances = np.sqrt(np.sum((X - centroids[:, np.newaxis])**2, axis=2))\n",
    "    cluster_assignments = np.argmin(distances, axis=0)\n",
    "    return cluster_assignments\n",
    "\n",
    "def update_centroids(X, cluster_assignments, K):\n",
    "    # Calcular nuevos centroides a partir de los puntos de datos en cada clúster\n",
    "    centroids = np.zeros((K, X.shape[1]))\n",
    "    for i in range(K):\n",
    "        centroids[i,:] = np.mean(X[cluster_assignments == i, :], axis=0)\n",
    "    return centroids\n",
    "\n",
    "def kmeans(X, K, max_iters=100):\n",
    "    centroids = initialize_centroids(X, K)\n",
    "    for i in range(max_iters):\n",
    "        cluster_assignments = assign_clusters(X, centroids)\n",
    "        new_centroids = update_centroids(X, cluster_assignments, K)\n",
    "        if np.allclose(centroids, new_centroids):\n",
    "            break\n",
    "        centroids = new_centroids\n",
    "    return centroids, cluster_assignments"
   ]
  },
  {
   "attachments": {},
   "cell_type": "markdown",
   "metadata": {},
   "source": [
    "----------\n",
    "#### Mixed Model\n",
    "\n",
    "> 1. Si considera necesario haga split del dataset como en los laboratorios anteriores. Recuerde que es un problema de aprendizaje no supervisado\n",
    "\n",
    "En este caso, no se hizo split del dataset ya que no se tiene un problema de aprendizaje supervisado. Es decir, que no se está comprobando que el modelo realizado sepa clasificar datos. Simplemente se quiere crear agrupaciones de los clientes del banco.\n",
    "\n",
    "\n",
    "\n",
    "> 2. Seleccione el número de clusters que mejor se adapte al dataset. Justifique su elección\n",
    "\n",
    "Se utilizó la Gráfica de \"Elbow\" en ambos casos (K-Means manual y de SKLearn) para determinar el punto donde se estabiliza el WSS (o Within-Cluster Sum of Squares). Este punto donde se estabiliza dicho valor es conocido como el \"codo\" de una gráfica. A través de este procedimiento, en ambos casos, se determinó que la mejor cantidad de número de clusters era 3. Como resultado, se envió este parámetro con los modelos.\n",
    "\n",
    "\n",
    "\n",
    "> 3. Investigue sobre Principal Component Analysis (PCA) y responda: ¿Cómo podría ayudarle a mejorar la calidad de sus clusters?\n",
    "\n",
    "Principal Component Analysis es una técnica que permite analizar datasets muy grandes y reducir su dimensionalidad. Esto se logra transformando la información a un sistema lineal de cordenadas que describe la mayor cantidad posible de la información original. Dicho procedimiento resulta en que se reduzca el ruido así como la complejidad de los datos; esto a través de eliminar features reduntantes o que no se correlacionan mucho. \n",
    "\n",
    "Esto puede ayudar a mejorar la cantidad de nuestros clusters disminuyendo la cantidad de features que se encuentran en el dataset y que producen ruido, sin perder información importante para este.\n",
    "\n",
    "*En el presente programa no se pudo observar mayor diferencia al utilizar dicha técnica. Esto debido a que ya se habían eliminado con anterioridad todas las variables que producían ruido en el dataset.*\n",
    "\n",
    "> 4. Muestre al menos una gráfica que muestre cómo se dividen los clusters seleccionados. *Seleccione dos features, justifique su elección*\n",
    "\n",
    "En este caso se crearon 2 gráficas, una para K-Means manual y otra para SKLearn. En ambos casos, se puede observar que se dividen los datos y cómo se crearon los respectivos clusters. \n",
    "\n",
    "Para crear dichas gráficas... primero se determinó qué variables tenían mayor correlación con Customer Account Balance; ya que en realidad esa es la variable de más interés para un banco (¿quién tiene más dinero?). Como resultado, se determinó que Age y Transaction Amount eran las variables que más correlación tenían. Por lo cual se utilizaron estas dos en los respectivos modelos además de Customer Account Balance.\n",
    "\n",
    "Sin embargo, de estas tres variables únicamente se gráfico únicamente **Age** y **CustomerAccountBalance** ya que estas son las que proveen información que permite realizar agrupaciones relacionadas al cliente. Esto a diferencia de CustomerAccountBalance y TransactionAmount, que no nos dicen mucho sobre los tipos de clientes. \n",
    "\n",
    "En ambas graficas se muestra la relación entre **Customer Account Balance** y **Age**, esto con la intención de poder determinar cómo está distribuído el dinero en el banco y cuáles son los posibles tipos de cliente. En este caso se pudo observar 3 grupos principales; el primero es de los más jóvenes con menos dinero, el segundo es de adultos con más dinero, y por último tenemos a personas mayores con más dinero que los jóvenes pero menos dinero que los adultos. \n",
    "\n",
    "*Creemos que las gráficas son muy buenas indicadoras de cuándo personas empiezan y terminan de trabajar, debido a la cantidad de ingresos y dinero que tienen.*\n",
    "\n",
    "\n",
    "> 5. Provea una métrica de desempeño, justificando su elección\n",
    "\n",
    "Para seleccionar la cantidad de clusters, se utilizó le métrica de WSS (o Within-Cluster Sum of Squares) y se graficaron los valores de WSS de diferentes modelos con distintos valores de clusters. Este valor indica qué tan compato es un cluster, a través de indicar la distancia cuadrada entre cada punto de un cluster y el centro del mismo. \n",
    "\n",
    "Por otro lado, decidió utilizar el índice de Davies–Bouldin para analizar el rendimiento de cada modelo. Esto ya que este permite calificar que tan bien se dividieron los clusters de los algoritmos. Este índice indica el promedio de la relación máxima entre la distancia de un punto al centro de su grupo y la distancia entre dos centros de grupos. Un índice bajo indica una buena partición.\n",
    "\n",
    "--------------"
   ]
  },
  {
   "attachments": {},
   "cell_type": "markdown",
   "metadata": {},
   "source": [
    "Posteriormente, se utilizó la función de calculate_WSS para determinar la métrica de WSS de diferentes modelos con distintos valores de clusters. Esto con el propósito de determinar cuántos clusters son los ideales para este modelo.\n",
    "\n",
    "\n",
    "Al hacer la gráfica \"elbow\" (codo) se puede determinar que con 3 clusters empieza a normalizarse el WSS y ya no decrece a una velocidad tan rápida. Por tal razón, el modelo final utilizará 3 clusters. "
   ]
  },
  {
   "cell_type": "code",
   "execution_count": 60,
   "metadata": {},
   "outputs": [
    {
     "name": "stdout",
     "output_type": "stream",
     "text": [
      "k: 1 cost: 63111.32057946757\n",
      "k: 2 cost: 11272.316091976176\n",
      "k: 3 cost: 4438.654951034487\n",
      "k: 4 cost: 2439.811660433014\n",
      "k: 5 cost: 1589.3952985920707\n",
      "k: 6 cost: 1292.548270309667\n",
      "k: 7 cost: 923.6993023033652\n",
      "k: 8 cost: 733.6783277111206\n"
     ]
    },
    {
     "data": {
      "text/plain": [
       "[<matplotlib.lines.Line2D at 0x7fa7e690c280>]"
      ]
     },
     "execution_count": 60,
     "metadata": {},
     "output_type": "execute_result"
    },
    {
     "data": {
      "image/png": "[encoded data removed]",
      "text/plain": [
       "<Figure size 640x480 with 1 Axes>"
      ]
     },
     "metadata": {},
     "output_type": "display_data"
    }
   ],
   "source": [
    "# Determinar la mejor cnatidad de clusters a través de Within-Cluster Sum of Squares (WSS) \n",
    "def calculate_WSS(points, kmax=10):\n",
    "  sse = []\n",
    "  for k in range(1, kmax+1):\n",
    "    centroids, cluster_assignments = kmeans(points, k)\n",
    "    curr_sse = 0\n",
    "    \n",
    "    # equivalente a inertia en sklearn\n",
    "    for i in range(len(points)):\n",
    "      curr_center = centroids[cluster_assignments[i]]\n",
    "      curr_sse += (points[i, 0] - curr_center[0]) ** 2 + (points[i, 1] - curr_center[1]) ** 2\n",
    "      \n",
    "    print(\"k:\",k, \"cost:\", curr_sse)\n",
    "    sse.append(curr_sse)\n",
    "\n",
    "  return sse\n",
    "\n",
    "sse = calculate_WSS(X, kmax=8)\n",
    "\n",
    "fig = plt.figure()\n",
    "ax = plt.axes()\n",
    "\n",
    "x_plot = list(range(1,9))\n",
    "ax.plot(x_plot, sse)"
   ]
  },
  {
   "attachments": {},
   "cell_type": "markdown",
   "metadata": {},
   "source": [
    "En base al valor de K determinado anteriormente, se creó una gráfica para poder demostrar las agrupaciones realizadas por el modelo."
   ]
  },
  {
   "cell_type": "code",
   "execution_count": 61,
   "metadata": {},
   "outputs": [
    {
     "data": {
      "image/png": "[encoded data removed]",
      "text/plain": [
       "<Figure size 640x480 with 1 Axes>"
      ]
     },
     "metadata": {},
     "output_type": "display_data"
    }
   ],
   "source": [
    "import matplotlib.pyplot as plt\n",
    "from mpl_toolkits.mplot3d import Axes3D\n",
    "\n",
    "# Calcular los centroides y los índices de asignación de clúster\n",
    "# X Contiene las variables con mayor correlación a CustAccountBalance. i.e. Age, CustAccountBalance, TransactionAmount (INR)...\n",
    "centroids, cluster_assignments = kmeans(X, K=3) \n",
    "\n",
    "fig = plt.figure()\n",
    "ax = fig.add_subplot(111)\n",
    "\n",
    "# Assign different colors to each cluster\n",
    "colors = ['r', 'g', 'b', 'c', 'm', 'y', 'k', 'b']\n",
    "cluster_colors = [colors[i] for i in cluster_assignments]\n",
    "\n",
    "# Plot the data points\n",
    "ax.scatter(df_feat['Age'], df_feat['CustAccountBalance'], c=cluster_colors)\n",
    "\n",
    "# Plot the centroids\n",
    "ax.scatter(centroids[:, 0], centroids[:, 1], c='black', marker='*', s=200)\n",
    "\n",
    "# Set the axis labels\n",
    "ax.set_xlabel('Age')\n",
    "ax.set_ylabel('CustAccountBalance')\n",
    "ax.set_title('K-Means Clustering')\n",
    "\n",
    "ax.set_xlim([min(df_feat['Age']), max(df_feat['Age'])])\n",
    "ax.set_ylim([min(df_feat['CustAccountBalance']), max(df_feat['CustAccountBalance'])])\n",
    "\n",
    "plt.show()"
   ]
  },
  {
   "attachments": {},
   "cell_type": "markdown",
   "metadata": {},
   "source": [
    "Para finalizar con el análisis del modelo creado manualmente, se quizo determinar la validez del modelo a través de Davies-Bouldin Index. A continuación, como se puede observar, se obtuvo un valor de aproximadamente 0.44. \n",
    "\n",
    "Esto es bueno, ya que mientras más bajo es este valor, mejor es la separación entre los clusters. Cabe destacar que el valor máximo promedio de este índice es entre 2 a 3 (pero podría llegar hasta el infinito positivo), por lo cual este valor cercano a 0 es casi que excelente. "
   ]
  },
  {
   "cell_type": "code",
   "execution_count": 62,
   "metadata": {},
   "outputs": [
    {
     "name": "stdout",
     "output_type": "stream",
     "text": [
      "0.43440175532653386\n"
     ]
    }
   ],
   "source": [
    "# Davies-Bouldin Index\n",
    "from sklearn.metrics import davies_bouldin_score\n",
    "print(davies_bouldin_score(X, cluster_assignments))"
   ]
  },
  {
   "attachments": {},
   "cell_type": "markdown",
   "metadata": {},
   "source": [
    "----------\n",
    "### Task 1.2: K-Means (SKLEARN - CON PCA)"
   ]
  },
  {
   "attachments": {},
   "cell_type": "markdown",
   "metadata": {},
   "source": [
    "Como segundo paso, se quiso comparar el resultado del modelo manual con el resultado de K-Means de SKLearn en conjunto con PCA. \n",
    "\n",
    "\n",
    "En este caso, también se estará haciendo uso de WSS para calcular cuál es el número de clusters ideal. A través de la gráfica de codo, se podrá determinar dicho valor.\n",
    "Como se pued observar a continuación, dicho valor sería 3 nuevamente. Esto ya que es este punto en la gráfica de codo cuando empieza a estabilizarse el valor de WSS.\n",
    "\n",
    "\n",
    "> Cabe destacar que, a pesar de que se usó PCA, no se observa mucha diferencia entre los modelos.\n",
    "\n",
    "> En este caso se cree que PCA no tuvo mucho impacto ya que únicamente se contaba con 3 features principales, de las cuales se graficaron 2. Por tal razón, PCA no tuvo que quitar muchas características irrelevantes o redundantes, ya que no había mucho ruido en el conjunto de features mandado al modelo. Como resultado, se obtuvo casi el mismo resultado (aunque el modelo de SKLearn presentó un mejor resultado)"
   ]
  },
  {
   "cell_type": "code",
   "execution_count": 63,
   "metadata": {},
   "outputs": [
    {
     "name": "stdout",
     "output_type": "stream",
     "text": [
      "k: 1 cost: 63111.32057946717\n",
      "k: 2 cost: 11272.31609197723\n",
      "k: 3 cost: 4438.654951034368\n",
      "k: 4 cost: 2384.7282203212512\n",
      "k: 5 cost: 1538.2029210609446\n",
      "k: 6 cost: 1292.5482703095804\n",
      "k: 7 cost: 833.0453748808776\n",
      "k: 8 cost: 672.0139741775938\n"
     ]
    },
    {
     "data": {
      "text/plain": [
       "[<matplotlib.lines.Line2D at 0x7fa7e692ac40>]"
      ]
     },
     "execution_count": 63,
     "metadata": {},
     "output_type": "execute_result"
    },
    {
     "data": {
      "image/png": "[encoded data removed]",
      "text/plain": [
       "<Figure size 640x480 with 1 Axes>"
      ]
     },
     "metadata": {},
     "output_type": "display_data"
    }
   ],
   "source": [
    "from sklearn.cluster import KMeans\n",
    "from sklearn.decomposition import PCA\n",
    "\n",
    "\n",
    "# Determinar la mejor cnatidad de clusters a través de Within-Cluster Sum of Squares (WSS) \n",
    "def calculate_WSS(points, kmax=10):\n",
    "  sse = []\n",
    "\n",
    "  for k in range(1, kmax+1):\n",
    "    kmeans = KMeans(n_clusters = k, n_init='auto').fit(points)\n",
    "    centroids = kmeans.cluster_centers_\n",
    "    pred_clusters = kmeans.predict(points)\n",
    "    curr_sse = 0\n",
    "    \n",
    "    for i in range(len(points)):\n",
    "      curr_center = centroids[pred_clusters[i]]\n",
    "      curr_sse += (points[i, 0] - curr_center[0]) ** 2 + (points[i, 1] - curr_center[1]) ** 2\n",
    "      \n",
    "    sse.append(curr_sse)\n",
    "    print(\"k:\",k, \"cost:\", curr_sse)\n",
    "\n",
    "  return sse\n",
    "\n",
    "\n",
    "# PCA implementation\n",
    "pca = PCA(n_components=2)\n",
    "pca.fit(X)\n",
    "pca_data = pca.transform(X)\n",
    "\n",
    "# Grafica de codo\n",
    "sse = calculate_WSS(pca_data, kmax=8)\n",
    "\n",
    "fig = plt.figure()\n",
    "ax = plt.axes()\n",
    "\n",
    "x_plot = list(range(1,9))\n",
    "ax.plot(x_plot, sse)"
   ]
  },
  {
   "cell_type": "code",
   "execution_count": 64,
   "metadata": {},
   "outputs": [
    {
     "name": "stderr",
     "output_type": "stream",
     "text": [
      "/Library/Frameworks/Python.framework/Versions/3.9/lib/python3.9/site-packages/sklearn/cluster/_kmeans.py:870: FutureWarning: The default value of `n_init` will change from 10 to 'auto' in 1.4. Set the value of `n_init` explicitly to suppress the warning\n",
      "  warnings.warn(\n"
     ]
    },
    {
     "data": {
      "image/png": "[encoded data removed]",
      "text/plain": [
       "<Figure size 640x480 with 1 Axes>"
      ]
     },
     "metadata": {},
     "output_type": "display_data"
    }
   ],
   "source": [
    "# Calcular los centroides y los índices de asignación de clúster\n",
    "kmeans = KMeans(n_clusters=3, random_state=0).fit(pca_data)\n",
    "centroids = kmeans.cluster_centers_\n",
    "cluster_assignments = kmeans.labels_\n",
    "\n",
    "fig = plt.figure()\n",
    "ax = fig.add_subplot(111)\n",
    "\n",
    "# Assign different colors to each cluster\n",
    "colors = ['r', 'g', 'b', 'c', 'm', 'y', 'k', 'b']\n",
    "cluster_colors = [colors[i] for i in cluster_assignments]\n",
    "\n",
    "# Plot the data points\n",
    "ax.scatter(df_feat['Age'], df_feat['CustAccountBalance'], c=cluster_colors)\n",
    "\n",
    "# Plot the centroids\n",
    "ax.scatter(centroids[:, 0], centroids[:, 1], c='black', marker='*', s=200)\n",
    "\n",
    "# Set the axis labels\n",
    "ax.set_xlabel('Age')\n",
    "ax.set_ylabel('CustAccountBalance')\n",
    "ax.set_title('K-Means Clustering')\n",
    "\n",
    "ax.set_xlim([min(df_feat['Age']), max(df_feat['Age'])])\n",
    "ax.set_ylim([min(df_feat['CustAccountBalance']), max(df_feat['CustAccountBalance'])])\n",
    "\n",
    "plt.show()"
   ]
  },
  {
   "attachments": {},
   "cell_type": "markdown",
   "metadata": {},
   "source": [
    "Para finalizar con el análisis del modelo creado manualmente, se quizo determinar la validez del modelo a través de Davies-Bouldin Index. A continuación, como se puede observar, se obtuvo un valor de 0.42. \n",
    "\n",
    "Esto es bueno, ya que mientras más bajo es este valor, mejor es la separación entre los clusters. Cabe destacar que el valor máximo promedio de este índice es entre 2 a 3 (pero podría llegar hasta el infinito positivo), por lo cual este valor cercano a 0 es casi que excelente. "
   ]
  },
  {
   "cell_type": "code",
   "execution_count": 65,
   "metadata": {},
   "outputs": [
    {
     "name": "stdout",
     "output_type": "stream",
     "text": [
      "0.4255646168810236\n"
     ]
    }
   ],
   "source": [
    "# Davies-Bouldin Index\n",
    "print(davies_bouldin_score(X, cluster_assignments))"
   ]
  },
  {
   "attachments": {},
   "cell_type": "markdown",
   "metadata": {},
   "source": [
    "### Task 2.1: Implementacion de Mixture Models"
   ]
  },
  {
   "cell_type": "code",
   "execution_count": 66,
   "metadata": {},
   "outputs": [
    {
     "ename": "ValueError",
     "evalue": "could not broadcast input array from shape (1533260,3) into shape (1533260,)",
     "output_type": "error",
     "traceback": [
      "\u001b[0;31m---------------------------------------------------------------------------\u001b[0m",
      "\u001b[0;31mValueError\u001b[0m                                Traceback (most recent call last)",
      "Cell \u001b[0;32mIn[66], line 41\u001b[0m\n\u001b[1;32m     39\u001b[0m X \u001b[39m=\u001b[39m df_feat[[\u001b[39m'\u001b[39m\u001b[39mAge\u001b[39m\u001b[39m'\u001b[39m, \u001b[39m'\u001b[39m\u001b[39mCustAccountBalance\u001b[39m\u001b[39m'\u001b[39m, \u001b[39m'\u001b[39m\u001b[39mTransactionAmount (INR)\u001b[39m\u001b[39m'\u001b[39m]]\u001b[39m.\u001b[39mvalues\n\u001b[1;32m     40\u001b[0m \u001b[39m# Ejecutar la función gaussian_mixture con dos componentes\u001b[39;00m\n\u001b[0;32m---> 41\u001b[0m means, stds, class_probs \u001b[39m=\u001b[39m gaussian_mixture(X, n_components\u001b[39m=\u001b[39;49m\u001b[39m2\u001b[39;49m)\n",
      "Cell \u001b[0;32mIn[66], line 21\u001b[0m, in \u001b[0;36mgaussian_mixture\u001b[0;34m(X, n_components, max_iter, tol)\u001b[0m\n\u001b[1;32m     19\u001b[0m responsibilities \u001b[39m=\u001b[39m np\u001b[39m.\u001b[39mzeros((n_samples, n_components))\n\u001b[1;32m     20\u001b[0m \u001b[39mfor\u001b[39;00m j \u001b[39min\u001b[39;00m \u001b[39mrange\u001b[39m(n_components):\n\u001b[0;32m---> 21\u001b[0m     responsibilities[:, j] \u001b[39m=\u001b[39m class_probs[j] \u001b[39m*\u001b[39m norm\u001b[39m.\u001b[39mpdf(X, means[j], stds[j])\n\u001b[1;32m     22\u001b[0m responsibilities \u001b[39m/\u001b[39m\u001b[39m=\u001b[39m responsibilities\u001b[39m.\u001b[39msum(axis\u001b[39m=\u001b[39m\u001b[39m1\u001b[39m, keepdims\u001b[39m=\u001b[39m\u001b[39mTrue\u001b[39;00m)\n\u001b[1;32m     24\u001b[0m \u001b[39m# M-step: actualizar los parámetros\u001b[39;00m\n",
      "\u001b[0;31mValueError\u001b[0m: could not broadcast input array from shape (1533260,3) into shape (1533260,)"
     ]
    }
   ],
   "source": [
    "import numpy as np\n",
    "from scipy.stats import norm\n",
    "\n",
    "def gaussian_mixture(X, n_components, max_iter=100, tol=1e-6):\n",
    "    n_samples, n_features = X.shape\n",
    "\n",
    "    # Inicialización aleatoria de las medias y desviaciones estándar\n",
    "    means = np.random.rand(n_components, n_features)\n",
    "    stds = np.random.rand(n_components, n_features)\n",
    "\n",
    "    # Inicialización uniforme de las probabilidades de clase\n",
    "    n_components = means.shape[0]\n",
    "    class_probs = np.ones(n_components) / n_components\n",
    "\n",
    "\n",
    "    # Algoritmo EM para estimar los parámetros del modelo\n",
    "    for i in range(max_iter):\n",
    "        # E-step: calcular las responsabilidades\n",
    "        responsibilities = np.zeros((n_samples, n_components))\n",
    "        for j in range(n_components):\n",
    "            responsibilities[:, j] = class_probs[j] * norm.pdf(X, means[j], stds[j])\n",
    "        responsibilities /= responsibilities.sum(axis=1, keepdims=True)\n",
    "\n",
    "        # M-step: actualizar los parámetros\n",
    "        N_k = responsibilities.sum(axis=0)\n",
    "        means = (responsibilities.T @ X) / N_k[:, None]\n",
    "        stds = np.sqrt((responsibilities.T @ (X - means[:, None])**2) / N_k[:, None])\n",
    "        class_probs = N_k / n_samples\n",
    "\n",
    "        # Comprobar la convergencia\n",
    "        if np.abs(means - old_means).max() < tol:\n",
    "            break\n",
    "        old_means = means.copy()\n",
    "\n",
    "    # Devolver las medias, desviaciones estándar y probabilidades de clase finales\n",
    "    return means, stds, class_probs\n",
    "\n",
    "\n",
    "X = df_feat[['Age', 'CustAccountBalance', 'TransactionAmount (INR)']].values\n",
    "# Ejecutar la función gaussian_mixture con dos componentes\n",
    "means, stds, class_probs = gaussian_mixture(X, n_components=2)"
   ]
  },
  {
   "attachments": {},
   "cell_type": "markdown",
   "metadata": {},
   "source": [
    "### Task 2.2: Implementacion de Mixture Models con libreria"
   ]
  },
  {
   "cell_type": "code",
   "execution_count": 76,
   "metadata": {},
   "outputs": [],
   "source": [
    "from matplotlib.patches import Ellipse\n",
    "\n",
    "def draw_ellipse(position, covariance, ax=None, **kwargs):\n",
    "    \"\"\"Draw an ellipse with a given position and covariance\"\"\"\n",
    "    ax = ax or plt.gca()\n",
    "    \n",
    "    # Convert covariance to principal axes\n",
    "    if covariance.shape == (2, 2):\n",
    "        U, s, Vt = np.linalg.svd(covariance)\n",
    "        angle = np.degrees(np.arctan2(U[1, 0], U[0, 0]))\n",
    "        width, height = 2 * np.sqrt(s)\n",
    "    else:\n",
    "        angle = 0\n",
    "        width, height = 2 * np.sqrt(covariance)\n",
    "    \n",
    "    # Draw the Ellipse\n",
    "    for nsig in range(1, 4):\n",
    "        ax.add_patch(Ellipse(position, nsig * width, nsig * height,\n",
    "                             angle, **kwargs))\n",
    "        \n",
    "def plot_gmm(gmm, X, label=True, ax=None):\n",
    "    ax = ax or plt.gca()\n",
    "    labels = gmm.fit(X).predict(X)\n",
    "    if label:\n",
    "        ax.scatter(X[:, 0], X[:, 1], c=labels, s=40, cmap='viridis', zorder=2)\n",
    "    else:\n",
    "        ax.scatter(X[:, 0], X[:, 1], s=40, zorder=2)\n",
    "    ax.axis('equal')\n",
    "    \n",
    "    w_factor = 0.2 / gmm.weights_.max()\n",
    "    #for pos, covar, w in zip(gmm.means_, gmm.covariances_, gmm.weights_):\n",
    "    #   draw_ellipse(pos, covar, alpha=w * w_factor)"
   ]
  },
  {
   "cell_type": "code",
   "execution_count": 78,
   "metadata": {},
   "outputs": [
    {
     "data": {
      "image/png": "[encoded data removed]",
      "text/plain": [
       "<Figure size 640x480 with 1 Axes>"
      ]
     },
     "metadata": {},
     "output_type": "display_data"
    }
   ],
   "source": [
    "from sklearn.mixture import GaussianMixture\n",
    "\n",
    "# Create a Gaussian Mixture Model object\n",
    "gmm = GaussianMixture(n_components=2)\n",
    "\n",
    "plot_gmm(gmm, X)"
   ]
  }
 ],
 "metadata": {
  "kernelspec": {
   "display_name": "Python 3",
   "language": "python",
   "name": "python3"
  },
  "language_info": {
   "codemirror_mode": {
    "name": "ipython",
    "version": 3
   },
   "file_extension": ".py",
   "mimetype": "text/x-python",
   "name": "python",
   "nbconvert_exporter": "python",
   "pygments_lexer": "ipython3",
   "version": "3.9.2"
  },
  "orig_nbformat": 4,
  "vscode": {
   "interpreter": {
    "hash": "397704579725e15f5c7cb49fe5f0341eb7531c82d19f2c29d197e8b64ab5776b"
   }
  }
 },
 "nbformat": 4,
 "nbformat_minor": 2
}
